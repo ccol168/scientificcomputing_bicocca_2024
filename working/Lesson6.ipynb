{
 "cells": [
  {
   "cell_type": "markdown",
   "id": "6fffd1c7-59a4-4b6c-a237-7fbef7f81e2c",
   "metadata": {},
   "source": [
    "## Q1 : Your next project \n",
    "See [this](https://github.com/ccol168/BiPo_analysis)."
   ]
  },
  {
   "cell_type": "markdown",
   "id": "9d7640a5-d811-4366-993d-c2c1bc084f8e",
   "metadata": {},
   "source": [
    "## Q2 : Egocentric\n",
    "\n",
    "See [this](https://github.com/ccol168/github_test) repository to see the use of the action. I have the main branch with an empty readme, a branch called *testing_branch* with a pull request that does not satisfy the action and a *correct_testing_branch* with the pull request that satisfies the action.\n",
    "It is intended for the main branch to fail the check"
   ]
  },
  {
   "cell_type": "markdown",
   "id": "d2d5e237-fda2-46e4-838b-e74f8a107746",
   "metadata": {},
   "source": [
    "## Q5 :  Latexdiff\n",
    "See the [same github repository](https://github.com/ccol168/github_test), you will find the Texdiff_test folder with a main.tex test latex file and diff.tex that is the difference between two subseqent commits. I have not put the PDFs in the github folder, I complied them only locally with texmaker."
   ]
  },
  {
   "cell_type": "code",
   "execution_count": null,
   "id": "101e199f-e6fe-426d-be16-7bbbef6b490e",
   "metadata": {},
   "outputs": [],
   "source": []
  }
 ],
 "metadata": {
  "kernelspec": {
   "display_name": "Python 3 (ipykernel)",
   "language": "python",
   "name": "python3"
  },
  "language_info": {
   "codemirror_mode": {
    "name": "ipython",
    "version": 3
   },
   "file_extension": ".py",
   "mimetype": "text/x-python",
   "name": "python",
   "nbconvert_exporter": "python",
   "pygments_lexer": "ipython3",
   "version": "3.12.3"
  }
 },
 "nbformat": 4,
 "nbformat_minor": 5
}
