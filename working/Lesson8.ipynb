{
 "cells": [
  {
   "cell_type": "markdown",
   "id": "27d38afc-ae76-4e55-a101-3dd6a24aab03",
   "metadata": {},
   "source": [
    "## Q4: It's over Anakin, I have the high ground. I hate you! \n",
    "\n",
    "I try with the code in the lesson before that I was unable to improve by parallelizing it. Numba should do most of the work, but still I want to check if at some point I can manage to make it faster by parallelization "
   ]
  },
  {
   "cell_type": "code",
   "execution_count": 1,
   "id": "e894c0b9-5b5c-47cc-b90b-3d68b4bc5058",
   "metadata": {},
   "outputs": [
    {
     "name": "stdout",
     "output_type": "stream",
     "text": [
      "Build Dependencies:\n",
      "  blas:\n",
      "    detection method: pkgconfig\n",
      "    found: true\n",
      "    include directory: /opt/_internal/cpython-3.12.7/lib/python3.12/site-packages/scipy_openblas64/include\n",
      "    lib directory: /opt/_internal/cpython-3.12.7/lib/python3.12/site-packages/scipy_openblas64/lib\n",
      "    name: scipy-openblas\n",
      "    openblas configuration: OpenBLAS 0.3.27  USE64BITINT DYNAMIC_ARCH NO_AFFINITY\n",
      "      Haswell MAX_THREADS=64\n",
      "    pc file directory: /project/.openblas\n",
      "    version: 0.3.27\n",
      "  lapack:\n",
      "    detection method: pkgconfig\n",
      "    found: true\n",
      "    include directory: /opt/_internal/cpython-3.12.7/lib/python3.12/site-packages/scipy_openblas64/include\n",
      "    lib directory: /opt/_internal/cpython-3.12.7/lib/python3.12/site-packages/scipy_openblas64/lib\n",
      "    name: scipy-openblas\n",
      "    openblas configuration: OpenBLAS 0.3.27  USE64BITINT DYNAMIC_ARCH NO_AFFINITY\n",
      "      Haswell MAX_THREADS=64\n",
      "    pc file directory: /project/.openblas\n",
      "    version: 0.3.27\n",
      "Compilers:\n",
      "  c:\n",
      "    commands: cc\n",
      "    linker: ld.bfd\n",
      "    name: gcc\n",
      "    version: 10.2.1\n",
      "  c++:\n",
      "    commands: c++\n",
      "    linker: ld.bfd\n",
      "    name: gcc\n",
      "    version: 10.2.1\n",
      "  cython:\n",
      "    commands: cython\n",
      "    linker: cython\n",
      "    name: cython\n",
      "    version: 3.0.11\n",
      "Machine Information:\n",
      "  build:\n",
      "    cpu: x86_64\n",
      "    endian: little\n",
      "    family: x86_64\n",
      "    system: linux\n",
      "  host:\n",
      "    cpu: x86_64\n",
      "    endian: little\n",
      "    family: x86_64\n",
      "    system: linux\n",
      "Python Information:\n",
      "  path: /tmp/build-env-_wd9mzfv/bin/python\n",
      "  version: '3.12'\n",
      "SIMD Extensions:\n",
      "  baseline:\n",
      "  - SSE\n",
      "  - SSE2\n",
      "  - SSE3\n",
      "  found:\n",
      "  - SSSE3\n",
      "  - SSE41\n",
      "  - POPCNT\n",
      "  - SSE42\n",
      "  - AVX\n",
      "  - F16C\n",
      "  - FMA3\n",
      "  - AVX2\n",
      "  - AVX512F\n",
      "  - AVX512CD\n",
      "  - AVX512_SKX\n",
      "  - AVX512_CLX\n",
      "  - AVX512_CNL\n",
      "  - AVX512_ICL\n",
      "  not found:\n",
      "  - AVX512_KNL\n",
      "  - AVX512_KNM\n",
      "\n"
     ]
    }
   ],
   "source": [
    "import numpy as np\n",
    "np.__config__.show()\n",
    "import os\n",
    "os.environ['OPENBLAS_NUM_THREADS'] = '1'\n",
    "os.environ['MKL_NUM_THREADS'] = '1'\n",
    "\n",
    "import random\n",
    "import matplotlib.pyplot as plt\n",
    "from numba import njit\n",
    "import multiprocessing, pathos.multiprocessing\n",
    "from tqdm.notebook import tqdm\n",
    "import os\n",
    "import time\n",
    "\n",
    "import cProfile"
   ]
  },
  {
   "cell_type": "code",
   "execution_count": 2,
   "id": "f550a630-c9f2-4e8a-ae42-b6fef1033c2d",
   "metadata": {},
   "outputs": [],
   "source": [
    "R_JUNO = 19.4\n",
    "R_FV = 14\n",
    "R_LS = 17.7 \n",
    "n_scint = 1.51303\n",
    "n_water = 1.33\n",
    "c = 299792458\n",
    "\n",
    "def distance(x,y,z,x1,y1,z1) :\n",
    "        return np.sqrt((x-x1)**2 + (y-y1)**2 + (z-z1)**2)\n",
    "\n",
    "def intersection (x,y,z,x_dir,y_dir,z_dir,R) : \n",
    "    denom = 2*(x_dir**2+y_dir**2+z_dir**2)\n",
    "    sroot = (2*x*x_dir + 2*y*y_dir + 2*z*z_dir)**2 - 4*(x_dir**2 + y_dir**2 + z_dir**2)*(x**2+y**2+z**2-R**2)\n",
    "    num = -(2*x*x_dir + 2*y*y_dir + 2*z*z_dir) + np.sqrt(sroot)\n",
    "        \n",
    "    t = num/denom\n",
    "    x_out = x+x_dir*t\n",
    "    y_out = y+y_dir*t\n",
    "    z_out = z+z_dir*t\n",
    "        \n",
    "    return x_out,y_out,z_out\n",
    "\n",
    "def simple_path_time (x,y,z,x_onPMT,y_onPMT,z_onPMT) :\n",
    "    return (distance(x,y,z,x_onPMT,y_onPMT,z_onPMT)/c*n_scint) * 10**9\n",
    "\n",
    "def spherical_to_cartesian(r,theta,phi) :\n",
    "    x= r*np.sin(phi)*np.cos(theta)\n",
    "    y= r*np.sin(phi)*np.sin(theta)\n",
    "    z= r*np.cos(phi)\n",
    "    return x,y,z\n",
    "\n",
    "def cartesian_to_spherical (x,y,z) :\n",
    "    r = np.sqrt(x**2+y**2+z**2)\n",
    "    if (r != 0) :\n",
    "        phi = np.arccos(z/r)\n",
    "        theta = np.arctan2(y,x) \n",
    "    else :\n",
    "        phi = 0\n",
    "        theta = 0\n",
    "            \n",
    "    return r,theta,phi\n",
    "\n",
    "def CalculateEffective_n (arg) :\n",
    "    \n",
    "    R, theta, phi, theta_dir, phi_dir = arg\n",
    "    x,y,z = spherical_to_cartesian(R,theta,phi)\n",
    "    x_dir,y_dir,z_dir = spherical_to_cartesian(1,theta_dir,phi_dir)\n",
    "        \n",
    "    x_onLs,y_onLs,z_onLs = intersection(x,y,z,x_dir,y_dir,z_dir,R_LS)\n",
    "    x_onPMT,y_onPMT,z_onPMT = intersection(x,y,z,x_dir,y_dir,z_dir,R_JUNO)\n",
    "        \n",
    "    ToF = simple_path_time(x,y,z,x_onPMT,y_onPMT,z_onPMT)\n",
    " \n",
    "    return ToF"
   ]
  },
  {
   "cell_type": "code",
   "execution_count": 3,
   "id": "cc956773-f028-45de-82b0-fd08a7e68010",
   "metadata": {},
   "outputs": [],
   "source": [
    "def execute() :\n",
    "\n",
    "    start = time.time()\n",
    "    MaxRadius = 15.\n",
    "    N = 1_000_000\n",
    "    Rs = MaxRadius*np.random.uniform(0,1,size=N)\n",
    "    Thetas = np.random.uniform(0,2*np.pi,size=N)\n",
    "    Phis = np.arccos(1-2*np.random.uniform(0,1,size=N))\n",
    "    \n",
    "    Theta_dirs = np.random.uniform(0,2*np.pi,size=N)\n",
    "    Phi_dirs = np.arccos(1-2*np.random.uniform(0,1,size=N))\n",
    "    \n",
    "    ToFs = list(map(CalculateEffective_n,zip(Rs,Thetas,Phis,Theta_dirs,Phi_dirs)))\n",
    "    \n",
    "    end = time.time()\n",
    "    Time_taken = end - start\n",
    "    \n",
    "    print(f\"It took {Time_taken:.2f} s \")"
   ]
  },
  {
   "cell_type": "code",
   "execution_count": 4,
   "id": "fd09bf8b-0eb7-47fc-a390-fe3f2079ae40",
   "metadata": {},
   "outputs": [
    {
     "name": "stdout",
     "output_type": "stream",
     "text": [
      "It took 17.15 s \n"
     ]
    }
   ],
   "source": [
    "with cProfile.Profile() as pr:\n",
    "    execute() \n",
    "\n",
    "pr.dump_stats('example.prof')"
   ]
  },
  {
   "cell_type": "markdown",
   "id": "942fc08c-4725-4f88-a176-7506cab59c32",
   "metadata": {},
   "source": [
    "### Test 1: Apparently spherical to cartesian is the worst offender together with intersection. I try to jit them. \n",
    "\n",
    "### Test 2: if i jit only the two function I have named before then the other functions become the main bottleneck. Let's just jit everyting and obtain maximum speed"
   ]
  },
  {
   "cell_type": "code",
   "execution_count": 5,
   "id": "ec0c1940-284f-4395-bc60-af75ebd67513",
   "metadata": {},
   "outputs": [],
   "source": [
    "R_JUNO = 19.4\n",
    "R_FV = 14\n",
    "R_LS = 17.7 \n",
    "n_scint = 1.51303\n",
    "n_water = 1.33\n",
    "c = 299792458\n",
    "\n",
    "@njit\n",
    "def distance(x,y,z,x1,y1,z1) :\n",
    "        return np.sqrt((x-x1)**2 + (y-y1)**2 + (z-z1)**2)\n",
    "\n",
    "@njit\n",
    "def intersection (x,y,z,x_dir,y_dir,z_dir,R) : \n",
    "    denom = 2*(x_dir**2+y_dir**2+z_dir**2)\n",
    "    sroot = (2*x*x_dir + 2*y*y_dir + 2*z*z_dir)**2 - 4*(x_dir**2 + y_dir**2 + z_dir**2)*(x**2+y**2+z**2-R**2)\n",
    "    num = -(2*x*x_dir + 2*y*y_dir + 2*z*z_dir) + np.sqrt(sroot)\n",
    "        \n",
    "    t = num/denom\n",
    "    x_out = x+x_dir*t\n",
    "    y_out = y+y_dir*t\n",
    "    z_out = z+z_dir*t\n",
    "        \n",
    "    return x_out,y_out,z_out\n",
    "\n",
    "@njit\n",
    "def simple_path_time (x,y,z,x_onPMT,y_onPMT,z_onPMT) :\n",
    "    return (distance(x,y,z,x_onPMT,y_onPMT,z_onPMT)/c*n_scint) * 10**9\n",
    "\n",
    "@njit\n",
    "def spherical_to_cartesian(r,theta,phi) :\n",
    "    x= r*np.sin(phi)*np.cos(theta)\n",
    "    y= r*np.sin(phi)*np.sin(theta)\n",
    "    z= r*np.cos(phi)\n",
    "    return x,y,z\n",
    "\n",
    "def cartesian_to_spherical (x,y,z) :\n",
    "    r = np.sqrt(x**2+y**2+z**2)\n",
    "    if (r != 0) :\n",
    "        phi = np.arccos(z/r)\n",
    "        theta = np.arctan2(y,x) \n",
    "    else :\n",
    "        phi = 0\n",
    "        theta = 0\n",
    "            \n",
    "    return r,theta,phi\n",
    "\n",
    "@njit\n",
    "def CalculateEffective_n (arg) :\n",
    "    \n",
    "    R, theta, phi, theta_dir, phi_dir = arg\n",
    "    x,y,z = spherical_to_cartesian(R,theta,phi)\n",
    "    x_dir,y_dir,z_dir = spherical_to_cartesian(1,theta_dir,phi_dir)\n",
    "        \n",
    "    x_onLs,y_onLs,z_onLs = intersection(x,y,z,x_dir,y_dir,z_dir,R_LS)\n",
    "    x_onPMT,y_onPMT,z_onPMT = intersection(x,y,z,x_dir,y_dir,z_dir,R_JUNO)\n",
    "        \n",
    "    ToF = simple_path_time(x,y,z,x_onPMT,y_onPMT,z_onPMT)\n",
    " \n",
    "    return ToF\n",
    "\n",
    "\n",
    "def execute() :\n",
    "\n",
    "    start = time.time()\n",
    "    MaxRadius = 15.\n",
    "    N = 1_000_000\n",
    "    Rs = MaxRadius*np.random.uniform(0,1,size=N)\n",
    "    Thetas = np.random.uniform(0,2*np.pi,size=N)\n",
    "    Phis = np.arccos(1-2*np.random.uniform(0,1,size=N))\n",
    "    \n",
    "    Theta_dirs = np.random.uniform(0,2*np.pi,size=N)\n",
    "    Phi_dirs = np.arccos(1-2*np.random.uniform(0,1,size=N))\n",
    "    \n",
    "    ToFs = list(map(CalculateEffective_n,zip(Rs,Thetas,Phis,Theta_dirs,Phi_dirs)))\n",
    "    \n",
    "    end = time.time()\n",
    "    Time_taken = end - start\n",
    "    \n",
    "    print(\"It took\", round(Time_taken,2), \" s \")"
   ]
  },
  {
   "cell_type": "code",
   "execution_count": 6,
   "id": "d131b657-3ee0-4a66-abda-08b7267b5eaf",
   "metadata": {},
   "outputs": [
    {
     "name": "stdout",
     "output_type": "stream",
     "text": [
      "It took 1.79  s \n"
     ]
    }
   ],
   "source": [
    "with cProfile.Profile() as pr:\n",
    "    execute() \n",
    "\n",
    "pr.dump_stats('example.prof')"
   ]
  },
  {
   "cell_type": "markdown",
   "id": "e05ee7eb-a544-4cac-8144-8a5098998ad0",
   "metadata": {},
   "source": [
    "### Not bad, 15x speedup. Now let's try parallelizing"
   ]
  },
  {
   "cell_type": "code",
   "execution_count": 7,
   "id": "7aa6dfc2-a8f2-43a1-ae57-3c09d03f1aec",
   "metadata": {},
   "outputs": [],
   "source": [
    "def parallel_execute(CPU) :\n",
    "\n",
    "    start = time.time()\n",
    "    MaxRadius = 15.\n",
    "    N = 1_000\n",
    "    Rs = MaxRadius*np.random.uniform(0,1,size=N)\n",
    "    Thetas = np.random.uniform(0,2*np.pi,size=N)\n",
    "    Phis = np.arccos(1-2*np.random.uniform(0,1,size=N))\n",
    "    \n",
    "    Theta_dirs = np.random.uniform(0,2*np.pi,size=N)\n",
    "    Phi_dirs = np.arccos(1-2*np.random.uniform(0,1,size=N))\n",
    "    \n",
    "    parmap = pathos.multiprocessing.ProcessingPool(CPU).imap\n",
    "    ToFs = list(tqdm(parmap(CalculateEffective_n,zip(Rs,Thetas,Phis,Theta_dirs,Phi_dirs)),total=N))\n",
    "    \n",
    "    end = time.time()\n",
    "    Time_taken = end - start\n",
    "    \n",
    "    print(\"It took\", round(Time_taken,2), \" s \")\n",
    "\n",
    "    return Time_taken"
   ]
  },
  {
   "cell_type": "code",
   "execution_count": 10,
   "id": "fad98bb2-a2e2-4927-9244-3478163b5742",
   "metadata": {},
   "outputs": [
    {
     "data": {
      "application/vnd.jupyter.widget-view+json": {
       "model_id": "c73ee62d451c4509a0d8a8b8d2223f31",
       "version_major": 2,
       "version_minor": 0
      },
      "text/plain": [
       "  0%|          | 0/1000 [00:00<?, ?it/s]"
      ]
     },
     "metadata": {},
     "output_type": "display_data"
    },
    {
     "name": "stdout",
     "output_type": "stream",
     "text": [
      "It took 2.12  s \n"
     ]
    },
    {
     "data": {
      "application/vnd.jupyter.widget-view+json": {
       "model_id": "bbc2e696c2fa44b5b03e004921765666",
       "version_major": 2,
       "version_minor": 0
      },
      "text/plain": [
       "  0%|          | 0/1000 [00:00<?, ?it/s]"
      ]
     },
     "metadata": {},
     "output_type": "display_data"
    },
    {
     "name": "stdout",
     "output_type": "stream",
     "text": [
      "It took 1.88  s \n"
     ]
    },
    {
     "data": {
      "application/vnd.jupyter.widget-view+json": {
       "model_id": "614027263a614bfdb97112a633fd2761",
       "version_major": 2,
       "version_minor": 0
      },
      "text/plain": [
       "  0%|          | 0/1000 [00:00<?, ?it/s]"
      ]
     },
     "metadata": {},
     "output_type": "display_data"
    },
    {
     "name": "stdout",
     "output_type": "stream",
     "text": [
      "It took 2.03  s \n"
     ]
    },
    {
     "data": {
      "application/vnd.jupyter.widget-view+json": {
       "model_id": "2c16adfa3f8f40488f62b70dc6a9b970",
       "version_major": 2,
       "version_minor": 0
      },
      "text/plain": [
       "  0%|          | 0/1000 [00:00<?, ?it/s]"
      ]
     },
     "metadata": {},
     "output_type": "display_data"
    },
    {
     "name": "stdout",
     "output_type": "stream",
     "text": [
      "It took 2.04  s \n"
     ]
    },
    {
     "data": {
      "application/vnd.jupyter.widget-view+json": {
       "model_id": "ceff08ed987a420fa31e7d5be92de057",
       "version_major": 2,
       "version_minor": 0
      },
      "text/plain": [
       "  0%|          | 0/1000 [00:00<?, ?it/s]"
      ]
     },
     "metadata": {},
     "output_type": "display_data"
    },
    {
     "name": "stdout",
     "output_type": "stream",
     "text": [
      "It took 2.0  s \n"
     ]
    },
    {
     "data": {
      "application/vnd.jupyter.widget-view+json": {
       "model_id": "584b2d7d0bc643f3b3776341a4a56fa2",
       "version_major": 2,
       "version_minor": 0
      },
      "text/plain": [
       "  0%|          | 0/1000 [00:00<?, ?it/s]"
      ]
     },
     "metadata": {},
     "output_type": "display_data"
    },
    {
     "name": "stdout",
     "output_type": "stream",
     "text": [
      "It took 2.09  s \n"
     ]
    },
    {
     "data": {
      "application/vnd.jupyter.widget-view+json": {
       "model_id": "3e57e36416224a9f9c9b36816c86f37c",
       "version_major": 2,
       "version_minor": 0
      },
      "text/plain": [
       "  0%|          | 0/1000 [00:00<?, ?it/s]"
      ]
     },
     "metadata": {},
     "output_type": "display_data"
    },
    {
     "name": "stdout",
     "output_type": "stream",
     "text": [
      "It took 2.15  s \n"
     ]
    },
    {
     "data": {
      "application/vnd.jupyter.widget-view+json": {
       "model_id": "d1a63d4e90104baebdecf8f9d1f90427",
       "version_major": 2,
       "version_minor": 0
      },
      "text/plain": [
       "  0%|          | 0/1000 [00:00<?, ?it/s]"
      ]
     },
     "metadata": {},
     "output_type": "display_data"
    },
    {
     "name": "stdout",
     "output_type": "stream",
     "text": [
      "It took 1.95  s \n"
     ]
    },
    {
     "data": {
      "application/vnd.jupyter.widget-view+json": {
       "model_id": "d34f9411f13849a5aebb8ac8633d6352",
       "version_major": 2,
       "version_minor": 0
      },
      "text/plain": [
       "  0%|          | 0/1000 [00:00<?, ?it/s]"
      ]
     },
     "metadata": {},
     "output_type": "display_data"
    },
    {
     "name": "stdout",
     "output_type": "stream",
     "text": [
      "It took 2.13  s \n"
     ]
    }
   ],
   "source": [
    "Times = []\n",
    "for i in range (1,10) :\n",
    "    Times.append(parallel_execute(i))"
   ]
  },
  {
   "cell_type": "markdown",
   "id": "9fcc066f-156d-41f4-8571-7786d1598181",
   "metadata": {},
   "source": [
    "### Final thoughts\n",
    "As before, no speedup is seen. Also, to make it run in a reasonable time, i reduce from 1 million to 1000 events (!!!!!). Apparently, the parallelization program is not able at all to make this program run smoothly, probably because it's very memory-heavy. At the end of the day, I was able to obtain good performance with numba, but I don't think there is a way to parallelize it and keep all the data I need to analyze."
   ]
  },
  {
   "cell_type": "markdown",
   "id": "c09fa4b1-8fae-4e43-8af4-8d0c02c6b2cf",
   "metadata": {},
   "source": [
    "## Q1: I love pip \n",
    "See the GameOfLife package [here](https://test.pypi.org/project/GameOfLifeBicocca/#description)"
   ]
  },
  {
   "cell_type": "code",
   "execution_count": 1,
   "id": "d4d0211a-0df7-4678-af22-bd55926a3ba1",
   "metadata": {},
   "outputs": [
    {
     "ename": "ModuleNotFoundError",
     "evalue": "No module named 'ipympl'",
     "output_type": "error",
     "traceback": [
      "\u001b[0;31m---------------------------------------------------------------------------\u001b[0m",
      "\u001b[0;31mModuleNotFoundError\u001b[0m                       Traceback (most recent call last)",
      "Cell \u001b[0;32mIn[1], line 1\u001b[0m\n\u001b[0;32m----> 1\u001b[0m \u001b[43mget_ipython\u001b[49m\u001b[43m(\u001b[49m\u001b[43m)\u001b[49m\u001b[38;5;241;43m.\u001b[39;49m\u001b[43mrun_line_magic\u001b[49m\u001b[43m(\u001b[49m\u001b[38;5;124;43m'\u001b[39;49m\u001b[38;5;124;43mmatplotlib\u001b[39;49m\u001b[38;5;124;43m'\u001b[39;49m\u001b[43m,\u001b[49m\u001b[43m \u001b[49m\u001b[38;5;124;43m'\u001b[39;49m\u001b[38;5;124;43mwidget\u001b[39;49m\u001b[38;5;124;43m'\u001b[39;49m\u001b[43m)\u001b[49m\n\u001b[1;32m      2\u001b[0m \u001b[38;5;28;01mfrom\u001b[39;00m\u001b[38;5;250m \u001b[39m\u001b[38;5;21;01mGameOfLifeBicocca\u001b[39;00m\u001b[38;5;250m \u001b[39m\u001b[38;5;28;01mimport\u001b[39;00m GameOfLife\n",
      "File \u001b[0;32m~/anaconda3/lib/python3.9/site-packages/IPython/core/interactiveshell.py:2432\u001b[0m, in \u001b[0;36mInteractiveShell.run_line_magic\u001b[0;34m(self, magic_name, line, _stack_depth)\u001b[0m\n\u001b[1;32m   2430\u001b[0m     kwargs[\u001b[38;5;124m'\u001b[39m\u001b[38;5;124mlocal_ns\u001b[39m\u001b[38;5;124m'\u001b[39m] \u001b[38;5;241m=\u001b[39m \u001b[38;5;28mself\u001b[39m\u001b[38;5;241m.\u001b[39mget_local_scope(stack_depth)\n\u001b[1;32m   2431\u001b[0m \u001b[38;5;28;01mwith\u001b[39;00m \u001b[38;5;28mself\u001b[39m\u001b[38;5;241m.\u001b[39mbuiltin_trap:\n\u001b[0;32m-> 2432\u001b[0m     result \u001b[38;5;241m=\u001b[39m \u001b[43mfn\u001b[49m\u001b[43m(\u001b[49m\u001b[38;5;241;43m*\u001b[39;49m\u001b[43margs\u001b[49m\u001b[43m,\u001b[49m\u001b[43m \u001b[49m\u001b[38;5;241;43m*\u001b[39;49m\u001b[38;5;241;43m*\u001b[39;49m\u001b[43mkwargs\u001b[49m\u001b[43m)\u001b[49m\n\u001b[1;32m   2434\u001b[0m \u001b[38;5;66;03m# The code below prevents the output from being displayed\u001b[39;00m\n\u001b[1;32m   2435\u001b[0m \u001b[38;5;66;03m# when using magics with decorator @output_can_be_silenced\u001b[39;00m\n\u001b[1;32m   2436\u001b[0m \u001b[38;5;66;03m# when the last Python token in the expression is a ';'.\u001b[39;00m\n\u001b[1;32m   2437\u001b[0m \u001b[38;5;28;01mif\u001b[39;00m \u001b[38;5;28mgetattr\u001b[39m(fn, magic\u001b[38;5;241m.\u001b[39mMAGIC_OUTPUT_CAN_BE_SILENCED, \u001b[38;5;28;01mFalse\u001b[39;00m):\n",
      "File \u001b[0;32m~/anaconda3/lib/python3.9/site-packages/IPython/core/magics/pylab.py:99\u001b[0m, in \u001b[0;36mPylabMagics.matplotlib\u001b[0;34m(self, line)\u001b[0m\n\u001b[1;32m     97\u001b[0m     \u001b[38;5;28mprint\u001b[39m(\u001b[38;5;124m\"\u001b[39m\u001b[38;5;124mAvailable matplotlib backends: \u001b[39m\u001b[38;5;132;01m%s\u001b[39;00m\u001b[38;5;124m\"\u001b[39m \u001b[38;5;241m%\u001b[39m backends_list)\n\u001b[1;32m     98\u001b[0m \u001b[38;5;28;01melse\u001b[39;00m:\n\u001b[0;32m---> 99\u001b[0m     gui, backend \u001b[38;5;241m=\u001b[39m \u001b[38;5;28;43mself\u001b[39;49m\u001b[38;5;241;43m.\u001b[39;49m\u001b[43mshell\u001b[49m\u001b[38;5;241;43m.\u001b[39;49m\u001b[43menable_matplotlib\u001b[49m\u001b[43m(\u001b[49m\u001b[43margs\u001b[49m\u001b[38;5;241;43m.\u001b[39;49m\u001b[43mgui\u001b[49m\u001b[38;5;241;43m.\u001b[39;49m\u001b[43mlower\u001b[49m\u001b[43m(\u001b[49m\u001b[43m)\u001b[49m\u001b[43m \u001b[49m\u001b[38;5;28;43;01mif\u001b[39;49;00m\u001b[43m \u001b[49m\u001b[38;5;28;43misinstance\u001b[39;49m\u001b[43m(\u001b[49m\u001b[43margs\u001b[49m\u001b[38;5;241;43m.\u001b[39;49m\u001b[43mgui\u001b[49m\u001b[43m,\u001b[49m\u001b[43m \u001b[49m\u001b[38;5;28;43mstr\u001b[39;49m\u001b[43m)\u001b[49m\u001b[43m \u001b[49m\u001b[38;5;28;43;01melse\u001b[39;49;00m\u001b[43m \u001b[49m\u001b[43margs\u001b[49m\u001b[38;5;241;43m.\u001b[39;49m\u001b[43mgui\u001b[49m\u001b[43m)\u001b[49m\n\u001b[1;32m    100\u001b[0m     \u001b[38;5;28mself\u001b[39m\u001b[38;5;241m.\u001b[39m_show_matplotlib_backend(args\u001b[38;5;241m.\u001b[39mgui, backend)\n",
      "File \u001b[0;32m~/anaconda3/lib/python3.9/site-packages/IPython/core/interactiveshell.py:3621\u001b[0m, in \u001b[0;36mInteractiveShell.enable_matplotlib\u001b[0;34m(self, gui)\u001b[0m\n\u001b[1;32m   3617\u001b[0m         \u001b[38;5;28mprint\u001b[39m(\u001b[38;5;124m'\u001b[39m\u001b[38;5;124mWarning: Cannot change to a different GUI toolkit: \u001b[39m\u001b[38;5;132;01m%s\u001b[39;00m\u001b[38;5;124m.\u001b[39m\u001b[38;5;124m'\u001b[39m\n\u001b[1;32m   3618\u001b[0m                 \u001b[38;5;124m'\u001b[39m\u001b[38;5;124m Using \u001b[39m\u001b[38;5;132;01m%s\u001b[39;00m\u001b[38;5;124m instead.\u001b[39m\u001b[38;5;124m'\u001b[39m \u001b[38;5;241m%\u001b[39m (gui, \u001b[38;5;28mself\u001b[39m\u001b[38;5;241m.\u001b[39mpylab_gui_select))\n\u001b[1;32m   3619\u001b[0m         gui, backend \u001b[38;5;241m=\u001b[39m pt\u001b[38;5;241m.\u001b[39mfind_gui_and_backend(\u001b[38;5;28mself\u001b[39m\u001b[38;5;241m.\u001b[39mpylab_gui_select)\n\u001b[0;32m-> 3621\u001b[0m \u001b[43mpt\u001b[49m\u001b[38;5;241;43m.\u001b[39;49m\u001b[43mactivate_matplotlib\u001b[49m\u001b[43m(\u001b[49m\u001b[43mbackend\u001b[49m\u001b[43m)\u001b[49m\n\u001b[1;32m   3622\u001b[0m configure_inline_support(\u001b[38;5;28mself\u001b[39m, backend)\n\u001b[1;32m   3624\u001b[0m \u001b[38;5;66;03m# Now we must activate the gui pylab wants to use, and fix %run to take\u001b[39;00m\n\u001b[1;32m   3625\u001b[0m \u001b[38;5;66;03m# plot updates into account\u001b[39;00m\n",
      "File \u001b[0;32m~/anaconda3/lib/python3.9/site-packages/IPython/core/pylabtools.py:368\u001b[0m, in \u001b[0;36mactivate_matplotlib\u001b[0;34m(backend)\u001b[0m\n\u001b[1;32m    363\u001b[0m \u001b[38;5;66;03m# Due to circular imports, pyplot may be only partially initialised\u001b[39;00m\n\u001b[1;32m    364\u001b[0m \u001b[38;5;66;03m# when this function runs.\u001b[39;00m\n\u001b[1;32m    365\u001b[0m \u001b[38;5;66;03m# So avoid needing matplotlib attribute-lookup to access pyplot.\u001b[39;00m\n\u001b[1;32m    366\u001b[0m \u001b[38;5;28;01mfrom\u001b[39;00m\u001b[38;5;250m \u001b[39m\u001b[38;5;21;01mmatplotlib\u001b[39;00m\u001b[38;5;250m \u001b[39m\u001b[38;5;28;01mimport\u001b[39;00m pyplot \u001b[38;5;28;01mas\u001b[39;00m plt\n\u001b[0;32m--> 368\u001b[0m \u001b[43mplt\u001b[49m\u001b[38;5;241;43m.\u001b[39;49m\u001b[43mswitch_backend\u001b[49m\u001b[43m(\u001b[49m\u001b[43mbackend\u001b[49m\u001b[43m)\u001b[49m\n\u001b[1;32m    370\u001b[0m plt\u001b[38;5;241m.\u001b[39mshow\u001b[38;5;241m.\u001b[39m_needmain \u001b[38;5;241m=\u001b[39m \u001b[38;5;28;01mFalse\u001b[39;00m\n\u001b[1;32m    371\u001b[0m \u001b[38;5;66;03m# We need to detect at runtime whether show() is called by the user.\u001b[39;00m\n\u001b[1;32m    372\u001b[0m \u001b[38;5;66;03m# For this, we wrap it into a decorator which adds a 'called' flag.\u001b[39;00m\n",
      "File \u001b[0;32m~/anaconda3/lib/python3.9/site-packages/matplotlib/pyplot.py:282\u001b[0m, in \u001b[0;36mswitch_backend\u001b[0;34m(newbackend)\u001b[0m\n\u001b[1;32m    275\u001b[0m \u001b[38;5;66;03m# Backends are implemented as modules, but \"inherit\" default method\u001b[39;00m\n\u001b[1;32m    276\u001b[0m \u001b[38;5;66;03m# implementations from backend_bases._Backend.  This is achieved by\u001b[39;00m\n\u001b[1;32m    277\u001b[0m \u001b[38;5;66;03m# creating a \"class\" that inherits from backend_bases._Backend and whose\u001b[39;00m\n\u001b[1;32m    278\u001b[0m \u001b[38;5;66;03m# body is filled with the module's globals.\u001b[39;00m\n\u001b[1;32m    280\u001b[0m backend_name \u001b[38;5;241m=\u001b[39m cbook\u001b[38;5;241m.\u001b[39m_backend_module_name(newbackend)\n\u001b[0;32m--> 282\u001b[0m \u001b[38;5;28;01mclass\u001b[39;00m\u001b[38;5;250m \u001b[39m\u001b[38;5;21;01mbackend_mod\u001b[39;00m(matplotlib\u001b[38;5;241m.\u001b[39mbackend_bases\u001b[38;5;241m.\u001b[39m_Backend):\n\u001b[1;32m    283\u001b[0m     \u001b[38;5;28mlocals\u001b[39m()\u001b[38;5;241m.\u001b[39mupdate(\u001b[38;5;28mvars\u001b[39m(importlib\u001b[38;5;241m.\u001b[39mimport_module(backend_name)))\n\u001b[1;32m    285\u001b[0m required_framework \u001b[38;5;241m=\u001b[39m _get_required_interactive_framework(backend_mod)\n",
      "File \u001b[0;32m~/anaconda3/lib/python3.9/site-packages/matplotlib/pyplot.py:283\u001b[0m, in \u001b[0;36mswitch_backend.<locals>.backend_mod\u001b[0;34m()\u001b[0m\n\u001b[1;32m    282\u001b[0m \u001b[38;5;28;01mclass\u001b[39;00m\u001b[38;5;250m \u001b[39m\u001b[38;5;21;01mbackend_mod\u001b[39;00m(matplotlib\u001b[38;5;241m.\u001b[39mbackend_bases\u001b[38;5;241m.\u001b[39m_Backend):\n\u001b[0;32m--> 283\u001b[0m     \u001b[38;5;28mlocals\u001b[39m()\u001b[38;5;241m.\u001b[39mupdate(\u001b[38;5;28mvars\u001b[39m(\u001b[43mimportlib\u001b[49m\u001b[38;5;241;43m.\u001b[39;49m\u001b[43mimport_module\u001b[49m\u001b[43m(\u001b[49m\u001b[43mbackend_name\u001b[49m\u001b[43m)\u001b[49m))\n",
      "File \u001b[0;32m~/anaconda3/lib/python3.9/importlib/__init__.py:127\u001b[0m, in \u001b[0;36mimport_module\u001b[0;34m(name, package)\u001b[0m\n\u001b[1;32m    125\u001b[0m             \u001b[38;5;28;01mbreak\u001b[39;00m\n\u001b[1;32m    126\u001b[0m         level \u001b[38;5;241m+\u001b[39m\u001b[38;5;241m=\u001b[39m \u001b[38;5;241m1\u001b[39m\n\u001b[0;32m--> 127\u001b[0m \u001b[38;5;28;01mreturn\u001b[39;00m \u001b[43m_bootstrap\u001b[49m\u001b[38;5;241;43m.\u001b[39;49m\u001b[43m_gcd_import\u001b[49m\u001b[43m(\u001b[49m\u001b[43mname\u001b[49m\u001b[43m[\u001b[49m\u001b[43mlevel\u001b[49m\u001b[43m:\u001b[49m\u001b[43m]\u001b[49m\u001b[43m,\u001b[49m\u001b[43m \u001b[49m\u001b[43mpackage\u001b[49m\u001b[43m,\u001b[49m\u001b[43m \u001b[49m\u001b[43mlevel\u001b[49m\u001b[43m)\u001b[49m\n",
      "File \u001b[0;32m<frozen importlib._bootstrap>:1030\u001b[0m, in \u001b[0;36m_gcd_import\u001b[0;34m(name, package, level)\u001b[0m\n",
      "File \u001b[0;32m<frozen importlib._bootstrap>:1007\u001b[0m, in \u001b[0;36m_find_and_load\u001b[0;34m(name, import_)\u001b[0m\n",
      "File \u001b[0;32m<frozen importlib._bootstrap>:972\u001b[0m, in \u001b[0;36m_find_and_load_unlocked\u001b[0;34m(name, import_)\u001b[0m\n",
      "File \u001b[0;32m<frozen importlib._bootstrap>:228\u001b[0m, in \u001b[0;36m_call_with_frames_removed\u001b[0;34m(f, *args, **kwds)\u001b[0m\n",
      "File \u001b[0;32m<frozen importlib._bootstrap>:1030\u001b[0m, in \u001b[0;36m_gcd_import\u001b[0;34m(name, package, level)\u001b[0m\n",
      "File \u001b[0;32m<frozen importlib._bootstrap>:1007\u001b[0m, in \u001b[0;36m_find_and_load\u001b[0;34m(name, import_)\u001b[0m\n",
      "File \u001b[0;32m<frozen importlib._bootstrap>:984\u001b[0m, in \u001b[0;36m_find_and_load_unlocked\u001b[0;34m(name, import_)\u001b[0m\n",
      "\u001b[0;31mModuleNotFoundError\u001b[0m: No module named 'ipympl'"
     ]
    }
   ],
   "source": [
    "%matplotlib widget\n",
    "from GameOfLifeBicocca import GameOfLife"
   ]
  },
  {
   "cell_type": "code",
   "execution_count": 4,
   "id": "ee4dff7c-8da0-4821-8863-bb6cb491c820",
   "metadata": {},
   "outputs": [
    {
     "data": {
      "application/vnd.jupyter.widget-view+json": {
       "model_id": "0c35754058cd49a699c17326de7891b6",
       "version_major": 2,
       "version_minor": 0
      },
      "image/png": "[encoded data removed]",
      "text/html": [
       "\n",
       "            <div style=\"display: inline-block;\">\n",
       "                <div class=\"jupyter-widgets widget-label\" style=\"text-align: center;\">\n",
       "                    Figure\n",
       "                </div>\n",
       "                <img src='data:image/png;base64,iVBORw0KGgoAAAANSUhEUgAAAfQAAAH0CAYAAADL1t+KAAAAOnRFWHRTb2Z0d2FyZQBNYXRwbG90bGliIHZlcnNpb24zLjEwLjAsIGh0dHBzOi8vbWF0cGxvdGxpYi5vcmcvlHJYcgAAAAlwSFlzAAAPYQAAD2EBqD+naQAAJudJREFUeJzt3X9w1PWdx/HXl18bz8kutUCS1RjACljEYKmkoXqWkhpSB4n1Kma4IyjaGwYcnZQe0qn8KDeTtrZOr5LB3o0QO5yKzhS4U48epPwoJUghZCpey5BcTMiQDcI0uyQeIZN8748O265kA5HN7pf3Ph8z3xm+3+/n88n7+8luXnzz/W6+juu6rgAAwHVtWKoLAAAA145ABwDAAAIdAAADCHQAAAwg0AEAMIBABwDAAAIdAAADCHQAAAwg0AEAMIBABwDAAAIdAAADCHQAAAwg0AEAMIBABwDAAAIdAAADCHQAAAwg0AEAMIBABwDAAAIdAAADCHQAAAwg0AEAMIBABwDAAAIdAAADCHQAAAwg0AEAMIBABwDAAAIdAAADCHQAAAwg0AEAMIBABwDAAAIdAAADCHQAAAwg0AEAMIBABwDAAAIdAAADCHQAAAwg0AEAMIBABwDAAAIdAAADCHQAAAwg0AEAMIBABwDAAAIdAAADCHQAAAwg0AEAMIBABwDAAAIdAAADCHQAAAwg0AEAMIBABwDAAAIdAAADCHQAAAwg0AEAMIBABwDAAAIdAAADCHQAAAwg0AEAMIBABwDAgBGpLiCV+vr6dPr0aWVmZspxnFSXAwBIItd1df78eQWDQQ0bdv2f36Z1oJ8+fVq5ubmpLgMAkEKnTp3SLbfckuoyrllaB3pmZqakP38z/X5/iqsBACRTJBJRbm5uNAuud2kd6Jd+ze73+wl0AEhTVi65Xv8XDQAAAIEOAIAFngr0qqoqjR8/XhkZGSooKNDhw4cHbP/WW29pypQpysjI0LRp0/Tuu+8mqVIAALzFM4G+detWVVRUaM2aNaqrq1N+fr6Ki4t15syZftsfPHhQZWVlWrJkiY4dO6bS0lKVlpbq+PHjSa4cAIDUc1zXdVNdhCQVFBTonnvu0YYNGyT9+TPiubm5evrpp/Xcc89d1n7BggXq6urS22+/Hd32pS99SdOnT9fLL798VV8zEokoEAgoHA5zUxwApBlrGeCJM/SLFy/q6NGjKioqim4bNmyYioqKVFtb22+f2tramPaSVFxcHLc9AACWeeJja2fPnlVvb6+ysrJitmdlZemPf/xjv31CoVC/7UOhUNyv093dre7u7uh6JBK5hqoBAPAOT5yhJ0tlZaUCgUB04a/EAQCs8ESgjxkzRsOHD1d7e3vM9vb2dmVnZ/fbJzs7e1DtJWnVqlUKh8PR5dSpU9dePAAAHuCJQB81apRmzJihmpqa6La+vj7V1NSosLCw3z6FhYUx7SVp165dcdtLks/ni/5VOP46HADAEk9cQ5ekiooKlZeX64tf/KJmzpypn/70p+rq6tLjjz8uSVq0aJFuvvlmVVZWSpKeeeYZ3X///frJT36iBx98UG+88YaOHDmif/3Xf03lYQAAkBKeCfQFCxboo48+0urVqxUKhTR9+nTt3LkzeuNbS0tLzOPtZs2apddee03f+9739N3vfle33367tm/frjvvvDNVhwAAQMp45nPoqWDtM4gAgKtnLQM8cQ0dAABcGwIdAAADCHQAAAzwzE1xqRQIBBIyThrfjgAASDHO0AEAMIBABwDAAAIdAAADCHQAAAwg0AEAMIBABwDAAAIdAAADCHQAAAwg0AEAMIBABwDAAAIdAAADCHQAAAwg0AEAMIBABwDAAAIdAAADCHQAAAwg0AEAMIBABwDAgBGpLsALwuGw/H7/NY/jOE4Cqvkz13UTNhYA7+LnBhKFM3QAAAwg0AEAMIBABwDAAAIdAAADCHQAAAwg0AEAMIBABwDAAAIdAAADCHQAAAwg0AEAMIBABwDAAAIdAAADCHQAAAwg0AEAMMATgV5ZWal77rlHmZmZGjdunEpLS3XixIkB+1RXV8txnJglIyMjSRUDAOAtngj0ffv2admyZTp06JB27dqlnp4ePfDAA+rq6hqwn9/vV1tbW3Rpbm5OUsUAAHjLiFQXIEk7d+6MWa+urta4ceN09OhR/e3f/m3cfo7jKDs7e6jLAwDA8zxxhv5J4XBYknTTTTcN2K6zs1N5eXnKzc3V/Pnz9cEHHySjPAAAPMdzgd7X16dnn31WX/7yl3XnnXfGbTd58mRt2rRJO3bs0JYtW9TX16dZs2aptbU1bp/u7m5FIpGYBQAACxzXdd1UF/HXli5dqv/6r//SgQMHdMstt1x1v56eHt1xxx0qKyvT+vXr+22zdu1arVu37rLt4XBYfr//U9d8ieM41zzGJR77tgyZRM5ZoqXL9wB28DNocCKRiAKBQMIyINU8dYa+fPlyvf3229qzZ8+gwlySRo4cqbvvvlsNDQ1x26xatUrhcDi6nDp16lpLBgDAEzxxU5zrunr66ae1bds27d27VxMmTBj0GL29vXr//ff19a9/PW4bn88nn893LaUCAOBJngj0ZcuW6bXXXtOOHTuUmZmpUCgkSQoEArrhhhskSYsWLdLNN9+syspKSdL3v/99felLX9LnPvc5dXR06IUXXlBzc7OefPLJlB0HAACp4olA37hxoyTpK1/5Ssz2zZs3a/HixZKklpYWDRv2lysEf/rTn/TUU08pFArpM5/5jGbMmKGDBw/q85//fLLKBgDAMzx3U1wyJfqGCG5IGTxuigMSh59Bg8NNcQAAwHMIdAAADCDQAQAwgEAHAMAAAh0AAAMIdAAADCDQAQAwgEAHAMAAAh0AAAMIdAAADCDQAQAwgEAHAMAAAh0AAAM88fhUKxL5dKJEP4XMq7WlwxOdEo35Rzx8P9MbZ+gAABhAoAMAYACBDgCAAQQ6AAAGEOgAABhAoAMAYACBDgCAAQQ6AAAGEOgAABhAoAMAYACBDgCAAQQ6AAAGEOgAABhAoAMAYACBDgCAAQQ6AAAGEOgAABhAoAMAYMCIVBeA/rmum+oS4vJybemA+QfQH87QAQAwgEAHAMAAAh0AAAMIdAAADPBEoK9du1aO48QsU6ZMGbDPW2+9pSlTpigjI0PTpk3Tu+++m6RqAQDwHk8EuiRNnTpVbW1t0eXAgQNx2x48eFBlZWVasmSJjh07ptLSUpWWlur48eNJrBgAAO/wTKCPGDFC2dnZ0WXMmDFx2/7Lv/yL5s6dq+985zu64447tH79en3hC1/Qhg0bklgxAADe4ZlAP3nypILBoCZOnKiFCxeqpaUlbtva2loVFRXFbCsuLlZtbe1QlwkAgCd54g/LFBQUqLq6WpMnT1ZbW5vWrVun++67T8ePH1dmZuZl7UOhkLKysmK2ZWVlKRQKDfh1uru71d3dHV2PRCKJOQAAAFLME4FeUlIS/fddd92lgoIC5eXl6c0339SSJUsS9nUqKyu1bt26hI0HAIBXeOZX7n9t9OjRmjRpkhoaGvrdn52drfb29pht7e3tys7OHnDcVatWKRwOR5dTp04lrGYAAFLJk4He2dmpxsZG5eTk9Lu/sLBQNTU1Mdt27dqlwsLCAcf1+Xzy+/0xCwAAFngi0FesWKF9+/bpww8/1MGDB/Xwww9r+PDhKisrkyQtWrRIq1atirZ/5plntHPnTv3kJz/RH//4R61du1ZHjhzR8uXLU3UIAACklCeuobe2tqqsrEznzp3T2LFjde+99+rQoUMaO3asJKmlpUXDhv3l/x6zZs3Sa6+9pu9973v67ne/q9tvv13bt2/XnXfemapDAAAgpRw3jZ/FGIlEFAgEFA6H+fU7AKQZaxngiV+5AwCAa0OgAwBgAIEOAIABnrgpzgrHcRI2Vhrf2gDgU+JnUHrjDB0AAAMIdAAADCDQAQAwgEAHAMAAAh0AAAMIdAAADCDQAQAwgEAHAMAAAh0AAAMIdAAADCDQAQAwgEAHAMAAAh0AAAMIdAAADCDQAQAwgEAHAMAAAh0AAAMIdAAADCDQAQAwYESqC7DEdd2EjeU4TsLGkhJbGwBv4n2e3jhDBwDAAAIdAAADCHQAAAwg0AEAMIBABwDAAAIdAAADCHQAAAwg0AEAMIBABwDAAAIdAAADCHQAAAwg0AEAMIBABwDAAE8E+vjx4+U4zmXLsmXL+m1fXV19WduMjIwkVw0AgHd44vGpv/vd79Tb2xtdP378uL72ta/pm9/8Ztw+fr9fJ06ciK4n+nGjAABcTzwR6GPHjo1Z/8EPfqDbbrtN999/f9w+juMoOzt7qEsDAOC64Ilfuf+1ixcvasuWLXriiScGPOvu7OxUXl6ecnNzNX/+fH3wwQdJrBIAAG/xXKBv375dHR0dWrx4cdw2kydP1qZNm7Rjxw5t2bJFfX19mjVrllpbWwccu7u7W5FIJGYBAMACx3VdN9VF/LXi4mKNGjVK//mf/3nVfXp6enTHHXeorKxM69evj9tu7dq1WrduXSLK7JfHphJGefl+kXR4DyR6/hM5Z4msLR2+l5FIRIFAQOFwWH6/P9XlXDNPnaE3Nzdr9+7devLJJwfVb+TIkbr77rvV0NAwYLtVq1YpHA5Hl1OnTl1LuQAAeIanAn3z5s0aN26cHnzwwUH16+3t1fvvv6+cnJwB2/l8Pvn9/pgFAAALPBPofX192rx5s8rLyzViROzN94sWLdKqVaui69///vf13//93/rf//1f1dXV6e///u/V3Nw86DN7AACs8MTH1iRp9+7damlp0RNPPHHZvpaWFg0b9pf/e/zpT3/SU089pVAopM985jOaMWOGDh48qM9//vPJLBkAAM/w3E1xyXTphohESeOpRBJxU1xqcVOcHdwUBwAAPIdABwDAAAIdAAADCHQAAAwg0AEAMIBABwDAAAIdAAADCHQAAAwg0AEAMIBABwDAAAIdAAADCHQAAAwg0AEAMMAzj09NJStP2kF6SIenYHmZl+ffy7Vh6HGGDgCAAQQ6AAAGEOgAABhAoAMAYACBDgCAAQQ6AAAGEOgAABhAoAMAYACBDgCAAQQ6AAAGEOgAABhAoAMAYACBDgCAAQQ6AAAGEOgAABhAoAMAYACBDgCAAQQ6AAAGjEh1AV4QCAQSMo7rugkZJ504jpOwsdJl/pmzwWPOkA44QwcAwAACHQAAAwh0AAAMINABADCAQAcAwICkBPr+/fs1b948BYNBOY6j7du3x+x3XVerV69WTk6ObrjhBhUVFenkyZNXHLeqqkrjx49XRkaGCgoKdPjw4SE6AgAAvC0pgd7V1aX8/HxVVVX1u/9HP/qRfvazn+nll1/We++9pxtvvFHFxcW6cOFC3DG3bt2qiooKrVmzRnV1dcrPz1dxcbHOnDkzVIcBAIBnOW6SP1TpOI62bdum0tJSSX8+Ow8Gg/r2t7+tFStWSJLC4bCysrJUXV2txx57rN9xCgoKdM8992jDhg2SpL6+PuXm5urpp5/Wc889d1W1RCKRhH0GXeLzqZ8Gnw8ePOZs8Jgz9OdSBoTDYfn9/lSXc81Sfg29qalJoVBIRUVF0W2BQEAFBQWqra3tt8/Fixd19OjRmD7Dhg1TUVFR3D6S1N3drUgkErMAAGBBygM9FApJkrKysmK2Z2VlRfd90tmzZ9Xb2zuoPpJUWVmpQCAQXXJzc6+xegAAvCHlgZ5Mq1atUjgcji6nTp1KdUkAACREygM9OztbktTe3h6zvb29Pbrvk8aMGaPhw4cPqo8k+Xw++f3+mAUAAAtSHugTJkxQdna2ampqotsikYjee+89FRYW9ttn1KhRmjFjRkyfvr4+1dTUxO0DAIBlSXnaWmdnpxoaGqLrTU1Nqq+v10033aRbb71Vzz77rP75n/9Zt99+uyZMmKDnn39ewWAweie8JM2ZM0cPP/ywli9fLkmqqKhQeXm5vvjFL2rmzJn66U9/qq6uLj3++OPJOCQAADwlKYF+5MgRzZ49O7peUVEhSSovL1d1dbX+6Z/+SV1dXfrWt76ljo4O3Xvvvdq5c6cyMjKifRobG3X27Nno+oIFC/TRRx9p9erVCoVCmj59unbu3HnZjXIAAKSDpH8O3Uv4HHrq8fngwWPOBo85Q3/4HDoAAPAcAh0AAAMIdAAADEjKTXFeZ+X6SbKky/VIrx6nl+cMQOpwhg4AgAEEOgAABhDoAAAYQKADAGAAgQ4AgAEEOgAABhDoAAAYQKADAGAAgQ4AgAEEOgAABhDoAAAYQKADAGAAgQ4AgAEEOgAABhDoAAAYQKADAGAAgQ4AgAEEOgAABoxIdQFeEAgEUl3CkHNd15NjeVm6HGc64HuJdMAZOgAABhDoAAAYQKADAGAAgQ4AgAEEOgAABhDoAAAYQKADAGAAgQ4AgAEEOgAABhDoAAAYQKADAGAAgQ4AgAEEOgAABhDoAAAYkJRA379/v+bNm6dgMCjHcbR9+/bovp6eHq1cuVLTpk3TjTfeqGAwqEWLFun06dMDjrl27Vo5jhOzTJkyZYiPBAAAb0pKoHd1dSk/P19VVVWX7fv4449VV1en559/XnV1dfrlL3+pEydO6KGHHrriuFOnTlVbW1t0OXDgwFCUDwCA541IxhcpKSlRSUlJv/sCgYB27doVs23Dhg2aOXOmWlpadOutt8Ydd8SIEcrOzk5orQAAXI88eQ09HA7LcRyNHj16wHYnT55UMBjUxIkTtXDhQrW0tAzYvru7W5FIJGYBAMACzwX6hQsXtHLlSpWVlcnv98dtV1BQoOrqau3cuVMbN25UU1OT7rvvPp0/fz5un8rKSgUCgeiSm5ub0Npd1/Xs8sn7Da5lQWrxvQTQH8d1XTepX9BxtG3bNpWWll62r6enR4888ohaW1u1d+/eAQP9kzo6OpSXl6cXX3xRS5Ys6bdNd3e3uru7o+uRSCShoZ7kqRyURP7w9vJxpgO+l0BiRCIRBQIBhcPhQeWNVyXlGvrV6Onp0aOPPqrm5mb9+te/HvTkjh49WpMmTVJDQ0PcNj6fTz6f71pLBQDAczzxK/dLYX7y5Ent3r1bn/3sZwc9RmdnpxobG5WTkzMEFQIA4G1JCfTOzk7V19ervr5ektTU1KT6+nq1tLSop6dHf/d3f6cjR47o3//939Xb26tQKKRQKKSLFy9Gx5gzZ442bNgQXV+xYoX27dunDz/8UAcPHtTDDz+s4cOHq6ysLBmHBACApyTlV+5HjhzR7Nmzo+sVFRWSpPLycq1du1b/8R//IUmaPn16TL89e/boK1/5iiSpsbFRZ8+eje5rbW1VWVmZzp07p7Fjx+ree+/VoUOHNHbs2KE9GAAAPCjpN8V5yaUbIhLFy1PJjVR28L0EEsPaTXGeuIYOAACuDYEOAIABBDoAAAYQ6AAAGECgAwBgAIEOAIABBDoAAAYQ6AAAGECgAwBgAIEOAIABBDoAAAYQ6AAAGJCUp61h8BL5AA6Jh3BYwvcSyZDon0GJxHugf5yhAwBgAIEOAIABBDoAAAYQ6AAAGECgAwBgAIEOAIABBDoAAAYQ6AAAGECgAwBgAIEOAIABBDoAAAYQ6AAAGECgAwBgAIEOAIABBDoAAAYQ6AAAGECgAwBgAIEOAIABBDoAAAaMSHUBXhAOh+X3+1NdRgzXdVNdAjBojuMkbCzeA6nF/F9/OEMHAMAAAh0AAAMIdAAADCDQAQAwICmBvn//fs2bN0/BYFCO42j79u0x+xcvXizHcWKWuXPnXnHcqqoqjR8/XhkZGSooKNDhw4eH6AgAAPC2pAR6V1eX8vPzVVVVFbfN3Llz1dbWFl1ef/31AcfcunWrKioqtGbNGtXV1Sk/P1/FxcU6c+ZMossHAMDzkvKxtZKSEpWUlAzYxufzKTs7+6rHfPHFF/XUU0/p8ccflyS9/PLLeuedd7Rp0yY999xz11QvAADXG89cQ9+7d6/GjRunyZMna+nSpTp37lzcthcvXtTRo0dVVFQU3TZs2DAVFRWptrY2br/u7m5FIpGYBQAACzwR6HPnztUvfvEL1dTU6Ic//KH27dunkpIS9fb29tv+7Nmz6u3tVVZWVsz2rKwshUKhuF+nsrJSgUAguuTm5ib0OAAASBVP/KW4xx57LPrvadOm6a677tJtt92mvXv3as6cOQn7OqtWrVJFRUV0PRKJEOoAABM8cYb+SRMnTtSYMWPU0NDQ7/4xY8Zo+PDham9vj9ne3t4+4HV4n88nv98fswAAYIEnA721tVXnzp1TTk5Ov/tHjRqlGTNmqKamJrqtr69PNTU1KiwsTFaZAAB4RlICvbOzU/X19aqvr5ckNTU1qb6+Xi0tLers7NR3vvMdHTp0SB9++KFqamo0f/58fe5zn1NxcXF0jDlz5mjDhg3R9YqKCv3bv/2bXn31Vf3hD3/Q0qVL1dXVFb3rHQCAdJKUa+hHjhzR7Nmzo+uXrmOXl5dr48aN+v3vf69XX31VHR0dCgaDeuCBB7R+/Xr5fL5on8bGRp09eza6vmDBAn300UdavXq1QqGQpk+frp07d152oxwAAOnAcdP4GXmRSESBQMCTj08Frkc8PhXXE2sZ4Mlr6AAAYHAIdAAADCDQAQAwwBN/WAZIhERev5W4hovrD/cwpDfO0AEAMIBABwDAAAIdAAADCHQAAAwg0AEAMIBABwDAAAIdAAADCHQAAAwg0AEAMIBABwDAAAIdAAADCHQAAAwg0AEAMIBABwDAAAIdAAADCHQAAAwg0AEAMIBABwDAgBGpLgDJ4ThOwsZyXTdhYyWSV+tKNC9/L9Phe5DI+ZcSO2eJHMvLrzP0jzN0AAAMINABADCAQAcAwAACHQAAAwh0AAAMINABADCAQAcAwAACHQAAAwh0AAAMINABADCAQAcAwAACHQAAAwh0AAAMINABADAgKYG+f/9+zZs3T8FgUI7jaPv27TH7Hcfpd3nhhRfijrl27drL2k+ZMmWIjwQAAG9KSqB3dXUpPz9fVVVV/e5va2uLWTZt2iTHcfTII48MOO7UqVNj+h04cGAoygcAwPNGJOOLlJSUqKSkJO7+7OzsmPUdO3Zo9uzZmjhx4oDjjhgx4rK+AACkI89dQ29vb9c777yjJUuWXLHtyZMnFQwGNXHiRC1cuFAtLS0Dtu/u7lYkEolZAACwICln6IPx6quvKjMzU9/4xjcGbFdQUKDq6mpNnjxZbW1tWrdune677z4dP35cmZmZ/faprKzUunXrhqJsz3NdN9UlDDnHcRI6nlfnLJF1pcucJfo40wGvs+uP4yZ5ZhzH0bZt21RaWtrv/ilTpuhrX/uaXnrppUGN29HRoby8PL344otxz+67u7vV3d0dXY9EIsrNzVU4HJbf7x/U14P38ENj8NJlzrwc6F6ds0Ty6ussEokoEAiYyQBPnaH/5je/0YkTJ7R169ZB9x09erQmTZqkhoaGuG18Pp98Pt+1lAgAgCd56hr6K6+8ohkzZig/P3/QfTs7O9XY2KicnJwhqAwAAG9LSqB3dnaqvr5e9fX1kqSmpibV19fH3MQWiUT01ltv6cknn+x3jDlz5mjDhg3R9RUrVmjfvn368MMPdfDgQT388MMaPny4ysrKhvRYAADwoqT8yv3IkSOaPXt2dL2iokKSVF5erurqaknSG2+8Idd14wZyY2Ojzp49G11vbW1VWVmZzp07p7Fjx+ree+/VoUOHNHbs2KE7EAAAPCrpN8V5ibUbItKdV2+88bJ0mTNuikstr77OrGWAp66hAwCAT4dABwDAAAIdAAADCHQAAAwg0AEAMIBABwDAAAIdAAADCHQAAAwg0AEAMIBABwDAAAIdAAADCHQAAAwg0AEAMCApj08FkiEdnlqVaOkyZ+lynF7F/CcHZ+gAABhAoAMAYACBDgCAAQQ6AAAGEOgAABhAoAMAYACBDgCAAQQ6AAAGEOgAABhAoAMAYACBDgCAAQQ6AAAGEOgAABhAoAMAYACBDgCAAQQ6AAAGEOgAABgwItUFpJLrupKkSCSS4koAAMl26Wf/pSy43qV1oJ8/f16SlJubm+JKAACpcv78eQUCgVSXcc0c18p/TT6Fvr4+nT59WpmZmXIcp982kUhEubm5OnXqlPx+f5IrTIzr/RioP7WoP7Wof+i4rqvz588rGAxq2LDr/wp0Wp+hDxs2TLfccstVtfX7/Z57MQ7W9X4M1J9a1J9a1D80LJyZX3L9/5cEAAAQ6AAAWECgX4HP59OaNWvk8/lSXcqndr0fA/WnFvWnFvXjaqX1TXEAAFjBGToAAAYQ6AAAGECgAwBgAIEOAIABBLqkqqoqjR8/XhkZGSooKNDhw4cHbP/WW29pypQpysjI0LRp0/Tuu+8mqdLLVVZW6p577lFmZqbGjRun0tJSnThxYsA+1dXVchwnZsnIyEhSxbHWrl17WS1TpkwZsI+X5n/8+PGX1e84jpYtW9Zv+1TP/f79+zVv3jwFg0E5jqPt27fH7HddV6tXr1ZOTo5uuOEGFRUV6eTJk1ccd7DvoaGov6enRytXrtS0adN04403KhgMatGiRTp9+vSAY36a1+BQ1C9JixcvvqyWuXPnXnFcL8y/pH7fC47j6IUXXog7ZjLn37q0D/StW7eqoqJCa9asUV1dnfLz81VcXKwzZ8702/7gwYMqKyvTkiVLdOzYMZWWlqq0tFTHjx9PcuV/tm/fPi1btkyHDh3Srl271NPTowceeEBdXV0D9vP7/Wpra4suzc3NSar4clOnTo2p5cCBA3Hbem3+f/e738XUvmvXLknSN7/5zbh9Ujn3XV1dys/PV1VVVb/7f/SjH+lnP/uZXn75Zb333nu68cYbVVxcrAsXLsQdc7DvoaGq/+OPP1ZdXZ2ef/551dXV6Ze//KVOnDihhx566IrjDuY1eC2uNP+SNHfu3JhaXn/99QHH9Mr8S4qpu62tTZs2bZLjOHrkkUcGHDdZ82+em+ZmzpzpLlu2LLre29vrBoNBt7Kyst/2jz76qPvggw/GbCsoKHD/8R//cUjrvFpnzpxxJbn79u2L22bz5s1uIBBIXlEDWLNmjZufn3/V7b0+/88884x72223uX19ff3u99LcS3K3bdsWXe/r63Ozs7PdF154Ibqto6PD9fl87uuvvx53nMG+hxLlk/X35/Dhw64kt7m5OW6bwb4GE6W/+svLy9358+cPahwvz//8+fPdr371qwO2SdX8W5TWZ+gXL17U0aNHVVRUFN02bNgwFRUVqba2tt8+tbW1Me0lqbi4OG77ZAuHw5Kkm266acB2nZ2dysvLU25urubPn68PPvggGeX16+TJkwoGg5o4caIWLlyolpaWuG29PP8XL17Uli1b9MQTT8R92I/krbn/a01NTQqFQjHzGwgEVFBQEHd+P817KJnC4bAcx9Ho0aMHbDeY1+BQ27t3r8aNG6fJkydr6dKlOnfuXNy2Xp7/9vZ2vfPOO1qyZMkV23pp/q9naR3oZ8+eVW9vr7KysmK2Z2VlKRQK9dsnFAoNqn0y9fX16dlnn9WXv/xl3XnnnXHbTZ48WZs2bdKOHTu0ZcsW9fX1adasWWptbU1itX9WUFCg6upq7dy5Uxs3blRTU5Puu+++6KNtP8nL8799+3Z1dHRo8eLFcdt4ae4/6dIcDmZ+P817KFkuXLiglStXqqysbMCHggz2NTiU5s6dq1/84heqqanRD3/4Q+3bt08lJSXq7e3tt72X5//VV19VZmamvvGNbwzYzkvzf71L66etWbNs2TIdP378itefCgsLVVhYGF2fNWuW7rjjDv385z/X+vXrh7rMGCUlJdF/33XXXSooKFBeXp7efPPNq/qfvZe88sorKikpUTAYjNvGS3NvWU9Pjx599FG5rquNGzcO2NZLr8HHHnss+u9p06bprrvu0m233aa9e/dqzpw5Sa3lWm3atEkLFy684k2fXpr/611an6GPGTNGw4cPV3t7e8z29vZ2ZWdn99snOzt7UO2TZfny5Xr77be1Z8+eq34k7CUjR47U3XffrYaGhiGq7uqNHj1akyZNiluLV+e/ublZu3fv1pNPPjmofl6a+0tzOJj5/TTvoaF2Kcybm5u1a9euQT+y80qvwWSaOHGixowZE7cWL86/JP3mN7/RiRMnBv1+kLw1/9ebtA70UaNGacaMGaqpqYlu6+vrU01NTcxZ1F8rLCyMaS9Ju3btitt+qLmuq+XLl2vbtm369a9/rQkTJgx6jN7eXr3//vvKyckZggoHp7OzU42NjXFr8dr8X7J582aNGzdODz744KD6eWnuJ0yYoOzs7Jj5jUQieu+99+LO76d5Dw2lS2F+8uRJ7d69W5/97GcHPcaVXoPJ1NraqnPnzsWtxWvzf8krr7yiGTNmKD8/f9B9vTT/151U35WXam+88Ybr8/nc6upq93/+53/cb33rW+7o0aPdUCjkuq7r/sM//IP73HPPRdv/9re/dUeMGOH++Mc/dv/whz+4a9ascUeOHOm+//77Kal/6dKlbiAQcPfu3eu2tbVFl48//jja5pPHsG7dOvdXv/qV29jY6B49etR97LHH3IyMDPeDDz5Iev3f/va33b1797pNTU3ub3/7W7eoqMgdM2aMe+bMmX5r99r8u+6f7yq+9dZb3ZUrV162z2tzf/78effYsWPusWPHXEnuiy++6B47dix6F/gPfvADd/To0e6OHTvc3//+9+78+fPdCRMmuP/3f/8XHeOrX/2q+9JLL0XXr/QeSlb9Fy9edB966CH3lltucevr62PeD93d3XHrv9JrMFn1nz9/3l2xYoVbW1vrNjU1ubt373a/8IUvuLfffrt74cKFuPV7Zf4vCYfD7t/8zd+4Gzdu7HeMVM6/dWkf6K7rui+99JJ76623uqNGjXJnzpzpHjp0KLrv/vvvd8vLy2Pav/nmm+6kSZPcUaNGuVOnTnXfeeedJFf8F5L6XTZv3hxt88ljePbZZ6PHm5WV5X7961936+rqkl+867oLFixwc3Jy3FGjRrk333yzu2DBArehoSG63+vz77qu+6tf/cqV5J44ceKyfV6b+z179vT7erlUY19fn/v888+7WVlZrs/nc+fMmXPZceXl5blr1qyJ2TbQeyhZ9Tc1NcV9P+zZsydu/Vd6DSar/o8//th94IEH3LFjx7ojR4508/Ly3KeeeuqyYPbq/F/y85//3L3hhhvcjo6OfsdI5fxbx+NTAQAwIK2voQMAYAWBDgCAAQQ6AAAGEOgAABhAoAMAYACBDgCAAQQ6AAAGEOgAABhAoAMAYACBDgCAAQQ6AAAGEOgAABhAoAMAYACBDgCAAQQ6AAAGEOgAABhAoAMAYACBDgCAAQQ6AAAGEOgAABhAoAMAYACBDgCAAQQ6AAAGEOgAABhAoAMAYACBDgCAAQQ6AAAGEOgAABhAoAMAYACBDgCAAQQ6AAAGEOgAABhAoAMAYMD/A22KGdz056pEAAAAAElFTkSuQmCC' width=500.0/>\n",
       "            </div>\n",
       "        "
      ],
      "text/plain": [
       "Canvas(toolbar=Toolbar(toolitems=[('Home', 'Reset original view', 'home', 'home'), ('Back', 'Back to previous …"
      ]
     },
     "metadata": {},
     "output_type": "display_data"
    }
   ],
   "source": [
    "#Test if it works\n",
    "Game = GameOfLife(20)\n",
    "Game.InitializeRandom(50) \n",
    "ani = Game.PlaySteps(None,50)"
   ]
  },
  {
   "cell_type": "code",
   "execution_count": null,
   "id": "dd2e6722-471b-4bda-901a-107bad645af0",
   "metadata": {},
   "outputs": [],
   "source": []
  }
 ],
 "metadata": {
  "kernelspec": {
   "display_name": "Python 3 (ipykernel)",
   "language": "python",
   "name": "python3"
  },
  "language_info": {
   "codemirror_mode": {
    "name": "ipython",
    "version": 3
   },
   "file_extension": ".py",
   "mimetype": "text/x-python",
   "name": "python",
   "nbconvert_exporter": "python",
   "pygments_lexer": "ipython3",
   "version": "3.12.3"
  }
 },
 "nbformat": 4,
 "nbformat_minor": 5
}
