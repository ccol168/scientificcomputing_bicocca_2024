{
 "cells": [
  {
   "cell_type": "markdown",
   "id": "bc70387c-3d8f-46ae-a33c-828f501cfd54",
   "metadata": {},
   "source": [
    "# Ex 1: Machine Precision"
   ]
  },
  {
   "cell_type": "code",
   "execution_count": 1,
   "id": "455db91f-1fa0-44be-98fd-765f68703b30",
   "metadata": {},
   "outputs": [
    {
     "name": "stdout",
     "output_type": "stream",
     "text": [
      "1.1102230246251565e-16\n"
     ]
    }
   ],
   "source": [
    "eps = 1 \n",
    "\n",
    "while (1 + eps) != 1 :\n",
    "    eps = eps/2\n",
    "\n",
    "print(eps)"
   ]
  },
  {
   "cell_type": "code",
   "execution_count": 2,
   "id": "416e7707-263a-4936-8dda-3a8f9b2e552b",
   "metadata": {},
   "outputs": [
    {
     "data": {
      "text/plain": [
       "sys.float_info(max=1.7976931348623157e+308, max_exp=1024, max_10_exp=308, min=2.2250738585072014e-308, min_exp=-1021, min_10_exp=-307, dig=15, mant_dig=53, epsilon=2.220446049250313e-16, radix=2, rounds=1)"
      ]
     },
     "execution_count": 2,
     "metadata": {},
     "output_type": "execute_result"
    }
   ],
   "source": [
    "import sys\n",
    "sys.float_info"
   ]
  },
  {
   "cell_type": "markdown",
   "id": "6a1277d1-74d8-4918-ab1f-656259f66b43",
   "metadata": {},
   "source": [
    "## Conclusion \n",
    "I obtained half of the epsilon told by `sys.float_info`, clearly because the step before in the `while` cycle was the last value that the inequality was able to distinguish"
   ]
  },
  {
   "cell_type": "markdown",
   "id": "4006d42c-04c0-4b6c-96ea-15fba59d6e4d",
   "metadata": {},
   "source": [
    "# Ex 4: Word counts"
   ]
  },
  {
   "cell_type": "code",
   "execution_count": 3,
   "id": "cd413048-6632-4613-abc0-206a93e43e54",
   "metadata": {},
   "outputs": [],
   "source": [
    "gettysburg_address = \"\"\"\n",
    "Four score and seven years ago our fathers brought forth on this continent, \n",
    "a new nation, conceived in Liberty, and dedicated to the proposition that \n",
    "all men are created equal.\n",
    "\n",
    "Now we are engaged in a great civil war, testing whether that nation, or \n",
    "any nation so conceived and so dedicated, can long endure. We are met on\n",
    "a great battle-field of that war. We have come to dedicate a portion of\n",
    "that field, as a final resting place for those who here gave their lives\n",
    "that that nation might live. It is altogether fitting and proper that we\n",
    "should do this.\n",
    "\n",
    "But, in a larger sense, we can not dedicate -- we can not consecrate -- we\n",
    "can not hallow -- this ground. The brave men, living and dead, who struggled\n",
    "here, have consecrated it, far above our poor power to add or detract.  The\n",
    "world will little note, nor long remember what we say here, but it can never\n",
    "forget what they did here. It is for us the living, rather, to be dedicated\n",
    "here to the unfinished work which they who fought here have thus far so nobly\n",
    "advanced. It is rather for us to be here dedicated to the great task remaining\n",
    "before us -- that from these honored dead we take increased devotion to that\n",
    "cause for which they gave the last full measure of devotion -- that we here\n",
    "highly resolve that these dead shall not have died in vain -- that this\n",
    "nation, under God, shall have a new birth of freedom -- and that government\n",
    "of the people, by the people, for the people, shall not perish from the earth.\n",
    "\"\"\""
   ]
  },
  {
   "cell_type": "code",
   "execution_count": 4,
   "id": "e2add986-9fd9-4dd2-a9e1-42100d3ba7f9",
   "metadata": {},
   "outputs": [
    {
     "name": "stdout",
     "output_type": "stream",
     "text": [
      "{'four': 1, 'score': 1, 'and': 6, 'seven': 1, 'years': 1, 'ago': 1, 'our': 2, 'fathers': 1, 'brought': 1, 'forth': 1, 'on': 2, 'this': 4, 'continent': 1, 'a': 7, 'new': 2, 'nation': 5, 'conceived': 2, 'in': 4, 'liberty': 1, 'dedicated': 4, 'to': 8, 'the': 11, 'proposition': 1, 'that': 13, 'all': 1, 'men': 2, 'are': 3, 'created': 1, 'equal': 1, 'now': 1, 'we': 10, 'engaged': 1, 'great': 3, 'civil': 1, 'war': 2, 'testing': 1, 'whether': 1, 'or': 2, 'any': 1, 'so': 3, 'can': 5, 'long': 2, 'endure': 1, 'met': 1, 'battle-field': 1, 'of': 5, 'have': 5, 'come': 1, 'dedicate': 2, 'portion': 1, 'field': 1, 'as': 1, 'final': 1, 'resting': 1, 'place': 1, 'for': 5, 'those': 1, 'who': 3, 'here': 8, 'gave': 2, 'their': 1, 'lives': 1, 'might': 1, 'live': 1, 'it': 5, 'is': 3, 'altogether': 1, 'fitting': 1, 'proper': 1, 'should': 1, 'do': 1, 'but': 2, 'larger': 1, 'sense': 1, 'not': 5, 'consecrate': 1, 'hallow': 1, 'ground': 1, 'brave': 1, 'living': 2, 'dead': 3, 'struggled': 1, 'consecrated': 1, 'far': 2, 'above': 1, 'poor': 1, 'power': 1, 'add': 1, 'detract': 1, 'world': 1, 'will': 1, 'little': 1, 'note': 1, 'nor': 1, 'remember': 1, 'what': 2, 'say': 1, 'never': 1, 'forget': 1, 'they': 3, 'did': 1, 'us': 3, 'rather': 2, 'be': 2, 'unfinished': 1, 'work': 1, 'which': 2, 'fought': 1, 'thus': 1, 'nobly': 1, 'advanced': 1, 'task': 1, 'remaining': 1, 'before': 1, 'from': 2, 'these': 2, 'honored': 1, 'take': 1, 'increased': 1, 'devotion': 2, 'cause': 1, 'last': 1, 'full': 1, 'measure': 1, 'highly': 1, 'resolve': 1, 'shall': 3, 'died': 1, 'vain': 1, 'under': 1, 'god': 1, 'birth': 1, 'freedom': 1, 'government': 1, 'people': 3, 'by': 1, 'perish': 1, 'earth': 1}\n"
     ]
    }
   ],
   "source": [
    "split_address = gettysburg_address.split()\n",
    "\n",
    "dictionary = {}\n",
    "\n",
    "for element in split_address :\n",
    "    element = element.lower().replace(\",\",\"\").replace(\".\",\"\").replace(\"--\",\"\")\n",
    "    if element == \"\" :\n",
    "        continue\n",
    "    elif element in dictionary :\n",
    "        dictionary[element] += 1\n",
    "    else :\n",
    "        dictionary[element] = 1\n",
    "\n",
    "print(dictionary)"
   ]
  },
  {
   "cell_type": "code",
   "execution_count": 5,
   "id": "cbfcf6b7-5aad-4e9f-a08b-69edcd4b820c",
   "metadata": {},
   "outputs": [
    {
     "name": "stdout",
     "output_type": "stream",
     "text": [
      "{'seven': 1, 'little': 1, 'what': 2, 'field': 1, 'not': 5, 'proposition': 1, 'cause': 1, 'fitting': 1, 'portion': 1, 'do': 1, 'remember': 1, 'in': 4, 'freedom': 1, 'conceived': 2, 'are': 3, 'battle-field': 1, 'resolve': 1, 'be': 2, 'under': 1, 'dedicate': 2, 'brought': 1, 'god': 1, 'earth': 1, 'resting': 1, 'take': 1, 'last': 1, 'people': 3, 'whether': 1, 'larger': 1, 'can': 5, 'years': 1, 'advanced': 1, 'live': 1, 'proper': 1, 'struggled': 1, 'dead': 3, 'perish': 1, 'note': 1, 'here': 8, 'which': 2, 'or': 2, 'government': 1, 'before': 1, 'endure': 1, 'that': 13, 'now': 1, 'gave': 2, 'highly': 1, 'hallow': 1, 'civil': 1, 'fought': 1, 'did': 1, 'forget': 1, 'liberty': 1, 'birth': 1, 'unfinished': 1, 'all': 1, 'poor': 1, 'full': 1, 'task': 1, 'new': 2, 'nobly': 1, 'they': 3, 'our': 2, 'testing': 1, 'rather': 2, 'fathers': 1, 'final': 1, 'consecrated': 1, 'place': 1, 'any': 1, 'and': 6, 'it': 5, 'these': 2, 'power': 1, 'war': 2, 'men': 2, 'detract': 1, 'engaged': 1, 'a': 7, 'should': 1, 'above': 1, 'long': 2, 'brave': 1, 'vain': 1, 'died': 1, 'four': 1, 'on': 2, 'us': 3, 'forth': 1, 'might': 1, 'lives': 1, 'who': 3, 'created': 1, 'is': 3, 'nor': 1, 'honored': 1, 'but': 2, 'the': 11, 'remaining': 1, 'for': 5, 'we': 10, 'increased': 1, 'world': 1, 'thus': 1, 'measure': 1, 'ago': 1, 'never': 1, 'will': 1, 'ground': 1, 'met': 1, 'have': 5, 'come': 1, 'living': 2, 'those': 1, 'dedicated': 4, 'great': 3, 'far': 2, 'nation': 5, 'equal': 1, 'sense': 1, 'so': 3, 'consecrate': 1, 'from': 2, 'devotion': 2, 'by': 1, 'shall': 3, 'of': 5, 'say': 1, 'score': 1, 'add': 1, 'continent': 1, 'to': 8, 'work': 1, 'this': 4, 'their': 1, 'as': 1, 'altogether': 1}\n"
     ]
    }
   ],
   "source": [
    "second_split_address = gettysburg_address.split()\n",
    "second_split_address = [string for string in second_split_address if string != \"--\"]\n",
    "words = [q.lower().replace(\".\", \"\").replace(\",\", \"\") for q in second_split_address]\n",
    "unique_words = set(words)\n",
    "count = {}\n",
    "for uw in unique_words:\n",
    "    count[uw] = words.count(uw)\n",
    "print(count)\n",
    "\n",
    "#print(second_split_address)\n",
    "#print(second_split_address != '')\n"
   ]
  },
  {
   "cell_type": "code",
   "execution_count": 6,
   "id": "6586f7ab-d4a9-42b4-a234-222bae135671",
   "metadata": {},
   "outputs": [
    {
     "name": "stdout",
     "output_type": "stream",
     "text": [
      "{'seven': 1, 'little': 1, 'what': 2, 'field': 1, 'not': 5, 'proposition': 1, 'cause': 1, 'fitting': 1, 'portion': 1, 'do': 1, 'remember': 1, 'in': 4, 'freedom': 1, 'conceived': 2, 'are': 3, 'battle-field': 1, 'resolve': 1, 'be': 2, 'under': 1, 'dedicate': 2, 'brought': 1, 'god': 1, 'earth': 1, 'resting': 1, 'take': 1, 'last': 1, 'people': 3, 'whether': 1, 'larger': 1, 'can': 5, 'years': 1, 'advanced': 1, 'live': 1, 'proper': 1, 'struggled': 1, 'dead': 3, 'perish': 1, 'note': 1, 'here': 8, 'which': 2, 'or': 2, 'government': 1, 'before': 1, 'endure': 1, 'that': 13, 'now': 1, 'gave': 2, 'highly': 1, 'hallow': 1, 'civil': 1, 'fought': 1, 'did': 1, 'forget': 1, 'liberty': 1, 'birth': 1, 'unfinished': 1, 'all': 1, 'poor': 1, 'full': 1, 'task': 1, 'new': 2, 'nobly': 1, 'they': 3, 'our': 2, 'testing': 1, 'rather': 2, 'fathers': 1, 'final': 1, 'consecrated': 1, 'place': 1, 'any': 1, 'and': 6, 'it': 5, 'these': 2, 'power': 1, 'war': 2, 'men': 2, 'detract': 1, 'engaged': 1, 'a': 7, 'should': 1, 'above': 1, 'long': 2, 'brave': 1, 'vain': 1, 'died': 1, 'four': 1, 'on': 2, 'us': 3, 'forth': 1, 'might': 1, 'lives': 1, 'who': 3, 'created': 1, 'is': 3, 'nor': 1, 'honored': 1, 'but': 2, 'the': 11, 'remaining': 1, 'for': 5, 'we': 10, 'increased': 1, 'world': 1, 'thus': 1, 'measure': 1, 'ago': 1, 'never': 1, 'will': 1, 'ground': 1, 'met': 1, 'have': 5, 'come': 1, 'living': 2, 'those': 1, 'dedicated': 4, 'great': 3, 'far': 2, 'nation': 5, 'equal': 1, 'sense': 1, 'so': 3, 'consecrate': 1, 'from': 2, 'devotion': 2, 'by': 1, 'shall': 3, 'of': 5, 'say': 1, 'score': 1, 'add': 1, 'continent': 1, 'to': 8, 'work': 1, 'this': 4, 'their': 1, 'as': 1, 'altogether': 1}\n"
     ]
    }
   ],
   "source": [
    "immediate_dict = {el : count[el] for el in unique_words}\n",
    "print(immediate_dict)"
   ]
  },
  {
   "cell_type": "markdown",
   "id": "f05e39b5-78d8-4454-aae7-c1e7e745476d",
   "metadata": {},
   "source": [
    "# Ex 7: Tic-Tac-Toe"
   ]
  },
  {
   "cell_type": "code",
   "execution_count": 7,
   "id": "f834a2e4-e661-4bd1-83a7-11513c39e2e2",
   "metadata": {},
   "outputs": [
    {
     "name": "stdout",
     "output_type": "stream",
     "text": [
      "\n",
      " {s1:^3} | {s2:^3} | {s3:^3}\n",
      "-----+-----+-----\n",
      " {s4:^3} | {s5:^3} | {s6:^3}\n",
      "-----+-----+-----      123\n",
      " {s7:^3} | {s8:^3} | {s9:^3}       456\n",
      "                       789  \n",
      "\n"
     ]
    }
   ],
   "source": [
    "board = \"\"\"\n",
    " {s1:^3} | {s2:^3} | {s3:^3}\n",
    "-----+-----+-----\n",
    " {s4:^3} | {s5:^3} | {s6:^3}\n",
    "-----+-----+-----      123\n",
    " {s7:^3} | {s8:^3} | {s9:^3}       456\n",
    "                       789  \n",
    "\"\"\"\n",
    "print(board)"
   ]
  },
  {
   "cell_type": "code",
   "execution_count": 8,
   "id": "7b26be58-071a-4f0b-a026-c4bbbca2c91f",
   "metadata": {},
   "outputs": [],
   "source": [
    "## play = {}\n",
    "\n",
    "def initialize_board(play):\n",
    "    for n in range(9):\n",
    "        play[\"s{}\".format(n+1)] = \"\"\n",
    "def show_board(play):\n",
    "    \"\"\" display the playing board.  We take a dictionary with the current state of the board\n",
    "    We rely on the board string to be a global variable\"\"\"\n",
    "    print(board.format(**play))\n",
    "def get_move(n, xo, play):\n",
    "    \"\"\" ask the current player, n, to make a move -- make sure the square was not \n",
    "        already played.  xo is a string of the character (x or o) we will place in\n",
    "        the desired square \"\"\"\n",
    "    valid_move = False\n",
    "    while not valid_move:\n",
    "        idx = input(\"player {}, enter your move (1-9)\".format(n))\n",
    "        if play[\"s{}\".format(idx)] == \"\":\n",
    "            valid_move = True\n",
    "        else:\n",
    "            print(\"invalid: {}\".format(play[\"s{}\".format(idx)]))\n",
    "            \n",
    "    play[\"s{}\".format(idx)] = xo\n",
    "    \n",
    "def evaluate_win (play) :\n",
    "    win_strings = [[1,2,3],[4,5,6],[7,8,9],[1,4,7],[2,5,8],[3,6,9],[1,5,9],[3,5,7]]\n",
    "    for win_string in win_strings :\n",
    "        if all( play[f's{i}'] == 'x' for i in win_string) :\n",
    "            return \"x\"\n",
    "        if all( play[f's{i}'] == 'o' for i in win_string) :\n",
    "            return \"o\"\n",
    "    if all(play[f's{i}'] != '' for i in range(1,10) ) :\n",
    "        return \"Draw\"\n",
    "        \n",
    "    return False\n",
    "\n",
    "def play_game():\n",
    "    \"\"\" play a game of tic-tac-toe \"\"\"\n",
    "    play = {}\n",
    "    initialize_board(play)\n",
    "    show_board(play)\n",
    "    while True :\n",
    "        for i,sign in zip([1,2],[\"x\",\"o\"]) :\n",
    "            get_move(i,sign,play)\n",
    "            show_board(play)\n",
    "            evaluate_win(play)\n",
    "            if evaluate_win(play) != False :\n",
    "                if evaluate_win(play) != \"Draw\" :\n",
    "                    print (f\" -------------------------  The winner is the player {i} with {evaluate_win(play)} !!!!!! --------------------------------------------- \")\n",
    "                    return \n",
    "                else :\n",
    "                    print (f\" -------------------------  The game concluded in a draw --------------------------------------------- \")\n",
    "                    return    \n"
   ]
  },
  {
   "cell_type": "code",
   "execution_count": 9,
   "id": "6abb90a5-0e50-4a78-bbc5-2045c84a3c88",
   "metadata": {},
   "outputs": [
    {
     "name": "stdout",
     "output_type": "stream",
     "text": [
      "\n",
      "     |     |    \n",
      "-----+-----+-----\n",
      "     |     |    \n",
      "-----+-----+-----      123\n",
      "     |     |           456\n",
      "                       789  \n",
      "\n"
     ]
    },
    {
     "name": "stdin",
     "output_type": "stream",
     "text": [
      "player 1, enter your move (1-9) 4\n"
     ]
    },
    {
     "name": "stdout",
     "output_type": "stream",
     "text": [
      "\n",
      "     |     |    \n",
      "-----+-----+-----\n",
      "  x  |     |    \n",
      "-----+-----+-----      123\n",
      "     |     |           456\n",
      "                       789  \n",
      "\n"
     ]
    },
    {
     "name": "stdin",
     "output_type": "stream",
     "text": [
      "player 2, enter your move (1-9) 5\n"
     ]
    },
    {
     "name": "stdout",
     "output_type": "stream",
     "text": [
      "\n",
      "     |     |    \n",
      "-----+-----+-----\n",
      "  x  |  o  |    \n",
      "-----+-----+-----      123\n",
      "     |     |           456\n",
      "                       789  \n",
      "\n"
     ]
    },
    {
     "name": "stdin",
     "output_type": "stream",
     "text": [
      "player 1, enter your move (1-9) 6\n"
     ]
    },
    {
     "name": "stdout",
     "output_type": "stream",
     "text": [
      "\n",
      "     |     |    \n",
      "-----+-----+-----\n",
      "  x  |  o  |  x \n",
      "-----+-----+-----      123\n",
      "     |     |           456\n",
      "                       789  \n",
      "\n"
     ]
    },
    {
     "name": "stdin",
     "output_type": "stream",
     "text": [
      "player 2, enter your move (1-9) 7\n"
     ]
    },
    {
     "name": "stdout",
     "output_type": "stream",
     "text": [
      "\n",
      "     |     |    \n",
      "-----+-----+-----\n",
      "  x  |  o  |  x \n",
      "-----+-----+-----      123\n",
      "  o  |     |           456\n",
      "                       789  \n",
      "\n"
     ]
    },
    {
     "name": "stdin",
     "output_type": "stream",
     "text": [
      "player 1, enter your move (1-9) 5\n"
     ]
    },
    {
     "name": "stdout",
     "output_type": "stream",
     "text": [
      "invalid: o\n"
     ]
    },
    {
     "name": "stdin",
     "output_type": "stream",
     "text": [
      "player 1, enter your move (1-9) 4\n"
     ]
    },
    {
     "name": "stdout",
     "output_type": "stream",
     "text": [
      "invalid: x\n"
     ]
    },
    {
     "name": "stdin",
     "output_type": "stream",
     "text": [
      "player 1, enter your move (1-9) 3\n"
     ]
    },
    {
     "name": "stdout",
     "output_type": "stream",
     "text": [
      "\n",
      "     |     |  x \n",
      "-----+-----+-----\n",
      "  x  |  o  |  x \n",
      "-----+-----+-----      123\n",
      "  o  |     |           456\n",
      "                       789  \n",
      "\n"
     ]
    },
    {
     "name": "stdin",
     "output_type": "stream",
     "text": [
      "player 2, enter your move (1-9) 7\n"
     ]
    },
    {
     "name": "stdout",
     "output_type": "stream",
     "text": [
      "invalid: o\n"
     ]
    },
    {
     "name": "stdin",
     "output_type": "stream",
     "text": [
      "player 2, enter your move (1-9) 9\n"
     ]
    },
    {
     "name": "stdout",
     "output_type": "stream",
     "text": [
      "\n",
      "     |     |  x \n",
      "-----+-----+-----\n",
      "  x  |  o  |  x \n",
      "-----+-----+-----      123\n",
      "  o  |     |  o        456\n",
      "                       789  \n",
      "\n"
     ]
    },
    {
     "name": "stdin",
     "output_type": "stream",
     "text": [
      "player 1, enter your move (1-9) 2\n"
     ]
    },
    {
     "name": "stdout",
     "output_type": "stream",
     "text": [
      "\n",
      "     |  x  |  x \n",
      "-----+-----+-----\n",
      "  x  |  o  |  x \n",
      "-----+-----+-----      123\n",
      "  o  |     |  o        456\n",
      "                       789  \n",
      "\n"
     ]
    },
    {
     "name": "stdin",
     "output_type": "stream",
     "text": [
      "player 2, enter your move (1-9) 8\n"
     ]
    },
    {
     "name": "stdout",
     "output_type": "stream",
     "text": [
      "\n",
      "     |  x  |  x \n",
      "-----+-----+-----\n",
      "  x  |  o  |  x \n",
      "-----+-----+-----      123\n",
      "  o  |  o  |  o        456\n",
      "                       789  \n",
      "\n",
      " -------------------------  The winner is the player 2 with o !!!!!! --------------------------------------------- \n"
     ]
    }
   ],
   "source": [
    "play_game()"
   ]
  },
  {
   "cell_type": "markdown",
   "id": "d46824e3-b6fd-4ee6-8ae5-b80cca847909",
   "metadata": {},
   "source": [
    "# Ex 10 : Tic Tac Toe again (with class)"
   ]
  },
  {
   "cell_type": "code",
   "execution_count": 10,
   "id": "71e0b56c-7c3b-4124-9d35-c6aa3e866409",
   "metadata": {},
   "outputs": [],
   "source": [
    "class TicTacToe : \n",
    "    \n",
    "    def __init__(self) :\n",
    "        self.fBoard = \"\"\"\n",
    "             {s1:^3} | {s2:^3} | {s3:^3}\n",
    "            -----+-----+-----\n",
    "             {s4:^3} | {s5:^3} | {s6:^3}\n",
    "            -----+-----+-----      123\n",
    "             {s7:^3} | {s8:^3} | {s9:^3}       456\n",
    "                                   789  \n",
    "            \"\"\"\n",
    "        self.fPlay = { \"s{}\".format(i) : \"\" for i in range (1,10) }\n",
    "        self.fStatus = \"In Game\"\n",
    "        \n",
    "    def ShowBoard (self) :\n",
    "        print(self.fBoard.format(**self.fPlay))\n",
    "        \n",
    "    def GetMove(self, n, xo):\n",
    "        valid_move = False\n",
    "        while not valid_move:\n",
    "            idx = input(\"player {}, enter your move (1-9)\".format(n))\n",
    "            if self.fPlay[\"s{}\".format(idx)] == \"\":\n",
    "                valid_move = True\n",
    "            else:\n",
    "                print(\"invalid: {}\".format(self.fPlay[\"s{}\".format(idx)]))\n",
    "            \n",
    "        self.fPlay[\"s{}\".format(idx)] = xo\n",
    "        \n",
    "    def EvaluateWin (self) :\n",
    "        win_strings = [[1,2,3],[4,5,6],[7,8,9],[1,4,7],[2,5,8],[3,6,9],[1,5,9],[3,5,7]]\n",
    "        for win_string in win_strings :\n",
    "            if all( self.fPlay[f's{i}'] == 'x' for i in win_string) :\n",
    "                self.fStatus = \"x\"\n",
    "                return \n",
    "            if all( self.fPlay[f's{i}'] == 'o' for i in win_string) :\n",
    "                self.fStatus = \"o\"\n",
    "                return \n",
    "        if all(self.fPlay[f's{i}'] != '' for i in range(1,10) ) :\n",
    "            self.fStatus = \"Draw\"\n",
    "            return \n",
    "\n",
    "    def FinalMessage (self) :\n",
    "        if self.fStatus == \"In Game\" :\n",
    "            pass\n",
    "        elif self.fStatus == \"x\" :\n",
    "            print(f\" ----------------------- The winner is player 1 using x !!!!!!!!!!!!!!!!!!!! -----------------------------------------\")\n",
    "        elif self.fStatus == \"o\" :\n",
    "            print(f\" ----------------------- The winner is player 2 using o !!!!!!!!!!!!!!!!!!!! -----------------------------------------\")\n",
    "        elif self.fStatus == \"Draw\" :\n",
    "            print(f\" ----------------------- The game ended in a draw -----------------------------------------\")\n",
    "\n",
    "    def Play (self) :\n",
    "        self.ShowBoard()\n",
    "        while True :\n",
    "            for i,sign in zip([1,2],[\"x\",\"o\"]) :\n",
    "                self.GetMove(i,sign)\n",
    "                self.ShowBoard()\n",
    "                self.EvaluateWin()\n",
    "                if self.fStatus != \"In Game\" :\n",
    "                    self.FinalMessage()\n",
    "                    return\n",
    "            "
   ]
  },
  {
   "cell_type": "code",
   "execution_count": 11,
   "id": "9ed1c5b2-250d-4ecb-a207-e04a332aa7c9",
   "metadata": {},
   "outputs": [
    {
     "name": "stdout",
     "output_type": "stream",
     "text": [
      "\n",
      "                 |     |    \n",
      "            -----+-----+-----\n",
      "                 |     |    \n",
      "            -----+-----+-----      123\n",
      "                 |     |           456\n",
      "                                   789  \n",
      "            \n"
     ]
    },
    {
     "name": "stdin",
     "output_type": "stream",
     "text": [
      "player 1, enter your move (1-9) 1\n"
     ]
    },
    {
     "name": "stdout",
     "output_type": "stream",
     "text": [
      "\n",
      "              x  |     |    \n",
      "            -----+-----+-----\n",
      "                 |     |    \n",
      "            -----+-----+-----      123\n",
      "                 |     |           456\n",
      "                                   789  \n",
      "            \n"
     ]
    },
    {
     "name": "stdin",
     "output_type": "stream",
     "text": [
      "player 2, enter your move (1-9) 2\n"
     ]
    },
    {
     "name": "stdout",
     "output_type": "stream",
     "text": [
      "\n",
      "              x  |  o  |    \n",
      "            -----+-----+-----\n",
      "                 |     |    \n",
      "            -----+-----+-----      123\n",
      "                 |     |           456\n",
      "                                   789  \n",
      "            \n"
     ]
    },
    {
     "name": "stdin",
     "output_type": "stream",
     "text": [
      "player 1, enter your move (1-9) 3\n"
     ]
    },
    {
     "name": "stdout",
     "output_type": "stream",
     "text": [
      "\n",
      "              x  |  o  |  x \n",
      "            -----+-----+-----\n",
      "                 |     |    \n",
      "            -----+-----+-----      123\n",
      "                 |     |           456\n",
      "                                   789  \n",
      "            \n"
     ]
    },
    {
     "name": "stdin",
     "output_type": "stream",
     "text": [
      "player 2, enter your move (1-9) 4\n"
     ]
    },
    {
     "name": "stdout",
     "output_type": "stream",
     "text": [
      "\n",
      "              x  |  o  |  x \n",
      "            -----+-----+-----\n",
      "              o  |     |    \n",
      "            -----+-----+-----      123\n",
      "                 |     |           456\n",
      "                                   789  \n",
      "            \n"
     ]
    },
    {
     "name": "stdin",
     "output_type": "stream",
     "text": [
      "player 1, enter your move (1-9) 5\n"
     ]
    },
    {
     "name": "stdout",
     "output_type": "stream",
     "text": [
      "\n",
      "              x  |  o  |  x \n",
      "            -----+-----+-----\n",
      "              o  |  x  |    \n",
      "            -----+-----+-----      123\n",
      "                 |     |           456\n",
      "                                   789  \n",
      "            \n"
     ]
    },
    {
     "name": "stdin",
     "output_type": "stream",
     "text": [
      "player 2, enter your move (1-9) 6\n"
     ]
    },
    {
     "name": "stdout",
     "output_type": "stream",
     "text": [
      "\n",
      "              x  |  o  |  x \n",
      "            -----+-----+-----\n",
      "              o  |  x  |  o \n",
      "            -----+-----+-----      123\n",
      "                 |     |           456\n",
      "                                   789  \n",
      "            \n"
     ]
    },
    {
     "name": "stdin",
     "output_type": "stream",
     "text": [
      "player 1, enter your move (1-9) 7\n"
     ]
    },
    {
     "name": "stdout",
     "output_type": "stream",
     "text": [
      "\n",
      "              x  |  o  |  x \n",
      "            -----+-----+-----\n",
      "              o  |  x  |  o \n",
      "            -----+-----+-----      123\n",
      "              x  |     |           456\n",
      "                                   789  \n",
      "            \n",
      " ----------------------- The winner is player 1 using x !!!!!!!!!!!!!!!!!!!! -----------------------------------------\n"
     ]
    }
   ],
   "source": [
    "Game = TicTacToe()\n",
    "Game.Play()"
   ]
  },
  {
   "cell_type": "code",
   "execution_count": null,
   "id": "4b595293-bf1b-48bb-852b-1f63fee3bafd",
   "metadata": {},
   "outputs": [],
   "source": []
  }
 ],
 "metadata": {
  "kernelspec": {
   "display_name": "Python 3 (ipykernel)",
   "language": "python",
   "name": "python3"
  },
  "language_info": {
   "codemirror_mode": {
    "name": "ipython",
    "version": 3
   },
   "file_extension": ".py",
   "mimetype": "text/x-python",
   "name": "python",
   "nbconvert_exporter": "python",
   "pygments_lexer": "ipython3",
   "version": "3.12.3"
  }
 },
 "nbformat": 4,
 "nbformat_minor": 5
}
