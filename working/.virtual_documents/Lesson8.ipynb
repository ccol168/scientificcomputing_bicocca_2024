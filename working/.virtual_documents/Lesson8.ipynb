


import numpy as np
np.__config__.show()
import os
os.environ['OPENBLAS_NUM_THREADS'] = '1'
os.environ['MKL_NUM_THREADS'] = '1'

import random
import matplotlib.pyplot as plt
from numba import njit
import multiprocessing, pathos.multiprocessing
from tqdm.notebook import tqdm
import os
import time

import cProfile


R_JUNO = 19.4
R_FV = 14
R_LS = 17.7 
n_scint = 1.51303
n_water = 1.33
c = 299792458

def distance(x,y,z,x1,y1,z1) :
        return np.sqrt((x-x1)**2 + (y-y1)**2 + (z-z1)**2)

def intersection (x,y,z,x_dir,y_dir,z_dir,R) : 
    denom = 2*(x_dir**2+y_dir**2+z_dir**2)
    sroot = (2*x*x_dir + 2*y*y_dir + 2*z*z_dir)**2 - 4*(x_dir**2 + y_dir**2 + z_dir**2)*(x**2+y**2+z**2-R**2)
    num = -(2*x*x_dir + 2*y*y_dir + 2*z*z_dir) + np.sqrt(sroot)
        
    t = num/denom
    x_out = x+x_dir*t
    y_out = y+y_dir*t
    z_out = z+z_dir*t
        
    return x_out,y_out,z_out

def simple_path_time (x,y,z,x_onPMT,y_onPMT,z_onPMT) :
    return (distance(x,y,z,x_onPMT,y_onPMT,z_onPMT)/c*n_scint) * 10**9

def spherical_to_cartesian(r,theta,phi) :
    x= r*np.sin(phi)*np.cos(theta)
    y= r*np.sin(phi)*np.sin(theta)
    z= r*np.cos(phi)
    return x,y,z

def cartesian_to_spherical (x,y,z) :
    r = np.sqrt(x**2+y**2+z**2)
    if (r != 0) :
        phi = np.arccos(z/r)
        theta = np.arctan2(y,x) 
    else :
        phi = 0
        theta = 0
            
    return r,theta,phi

def CalculateEffective_n (arg) :
    
    R, theta, phi, theta_dir, phi_dir = arg
    x,y,z = spherical_to_cartesian(R,theta,phi)
    x_dir,y_dir,z_dir = spherical_to_cartesian(1,theta_dir,phi_dir)
        
    x_onLs,y_onLs,z_onLs = intersection(x,y,z,x_dir,y_dir,z_dir,R_LS)
    x_onPMT,y_onPMT,z_onPMT = intersection(x,y,z,x_dir,y_dir,z_dir,R_JUNO)
        
    ToF = simple_path_time(x,y,z,x_onPMT,y_onPMT,z_onPMT)
 
    return ToF


def execute() :

    start = time.time()
    MaxRadius = 15.
    N = 1_000_000
    Rs = MaxRadius*np.random.uniform(0,1,size=N)
    Thetas = np.random.uniform(0,2*np.pi,size=N)
    Phis = np.arccos(1-2*np.random.uniform(0,1,size=N))
    
    Theta_dirs = np.random.uniform(0,2*np.pi,size=N)
    Phi_dirs = np.arccos(1-2*np.random.uniform(0,1,size=N))
    
    ToFs = list(map(CalculateEffective_n,zip(Rs,Thetas,Phis,Theta_dirs,Phi_dirs)))
    
    end = time.time()
    Time_taken = end - start
    
    print(f"It took {Time_taken:.2f} s ")


with cProfile.Profile() as pr:
    execute() 

pr.dump_stats('example.prof')





R_JUNO = 19.4
R_FV = 14
R_LS = 17.7 
n_scint = 1.51303
n_water = 1.33
c = 299792458

@njit
def distance(x,y,z,x1,y1,z1) :
        return np.sqrt((x-x1)**2 + (y-y1)**2 + (z-z1)**2)

@njit
def intersection (x,y,z,x_dir,y_dir,z_dir,R) : 
    denom = 2*(x_dir**2+y_dir**2+z_dir**2)
    sroot = (2*x*x_dir + 2*y*y_dir + 2*z*z_dir)**2 - 4*(x_dir**2 + y_dir**2 + z_dir**2)*(x**2+y**2+z**2-R**2)
    num = -(2*x*x_dir + 2*y*y_dir + 2*z*z_dir) + np.sqrt(sroot)
        
    t = num/denom
    x_out = x+x_dir*t
    y_out = y+y_dir*t
    z_out = z+z_dir*t
        
    return x_out,y_out,z_out

@njit
def simple_path_time (x,y,z,x_onPMT,y_onPMT,z_onPMT) :
    return (distance(x,y,z,x_onPMT,y_onPMT,z_onPMT)/c*n_scint) * 10**9

@njit
def spherical_to_cartesian(r,theta,phi) :
    x= r*np.sin(phi)*np.cos(theta)
    y= r*np.sin(phi)*np.sin(theta)
    z= r*np.cos(phi)
    return x,y,z

def cartesian_to_spherical (x,y,z) :
    r = np.sqrt(x**2+y**2+z**2)
    if (r != 0) :
        phi = np.arccos(z/r)
        theta = np.arctan2(y,x) 
    else :
        phi = 0
        theta = 0
            
    return r,theta,phi

@njit
def CalculateEffective_n (arg) :
    
    R, theta, phi, theta_dir, phi_dir = arg
    x,y,z = spherical_to_cartesian(R,theta,phi)
    x_dir,y_dir,z_dir = spherical_to_cartesian(1,theta_dir,phi_dir)
        
    x_onLs,y_onLs,z_onLs = intersection(x,y,z,x_dir,y_dir,z_dir,R_LS)
    x_onPMT,y_onPMT,z_onPMT = intersection(x,y,z,x_dir,y_dir,z_dir,R_JUNO)
        
    ToF = simple_path_time(x,y,z,x_onPMT,y_onPMT,z_onPMT)
 
    return ToF


def execute() :

    start = time.time()
    MaxRadius = 15.
    N = 1_000_000
    Rs = MaxRadius*np.random.uniform(0,1,size=N)
    Thetas = np.random.uniform(0,2*np.pi,size=N)
    Phis = np.arccos(1-2*np.random.uniform(0,1,size=N))
    
    Theta_dirs = np.random.uniform(0,2*np.pi,size=N)
    Phi_dirs = np.arccos(1-2*np.random.uniform(0,1,size=N))
    
    ToFs = list(map(CalculateEffective_n,zip(Rs,Thetas,Phis,Theta_dirs,Phi_dirs)))
    
    end = time.time()
    Time_taken = end - start
    
    print("It took", round(Time_taken,2), " s ")


with cProfile.Profile() as pr:
    execute() 

pr.dump_stats('example.prof')





def parallel_execute(CPU) :

    start = time.time()
    MaxRadius = 15.
    N = 1_000
    Rs = MaxRadius*np.random.uniform(0,1,size=N)
    Thetas = np.random.uniform(0,2*np.pi,size=N)
    Phis = np.arccos(1-2*np.random.uniform(0,1,size=N))
    
    Theta_dirs = np.random.uniform(0,2*np.pi,size=N)
    Phi_dirs = np.arccos(1-2*np.random.uniform(0,1,size=N))
    
    parmap = pathos.multiprocessing.ProcessingPool(CPU).imap
    ToFs = list(tqdm(parmap(CalculateEffective_n,zip(Rs,Thetas,Phis,Theta_dirs,Phi_dirs)),total=N))
    
    end = time.time()
    Time_taken = end - start
    
    print("It took", round(Time_taken,2), " s ")

    return Time_taken


Times = []
for i in range (1,10) :
    Times.append(parallel_execute(i))








%matplotlib widget
from GameOfLifeBicocca import GameOfLife


Game = GameOfLife(20)
Game.InitializeRandom(50) 
ani = Game.PlaySteps(None,50)



