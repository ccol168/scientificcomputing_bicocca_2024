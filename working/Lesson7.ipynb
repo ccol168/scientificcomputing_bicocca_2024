{
 "cells": [
  {
   "cell_type": "markdown",
   "id": "8b2409c7-b6bd-41c2-8bef-b8ce9c149449",
   "metadata": {},
   "source": [
    "## Q1: Markov chain"
   ]
  },
  {
   "cell_type": "code",
   "execution_count": 1,
   "id": "28a10fcc-9bdd-4560-81ee-115360706853",
   "metadata": {},
   "outputs": [
    {
     "name": "stdout",
     "output_type": "stream",
     "text": [
      "Build Dependencies:\n",
      "  blas:\n",
      "    detection method: pkgconfig\n",
      "    found: true\n",
      "    include directory: /opt/_internal/cpython-3.12.7/lib/python3.12/site-packages/scipy_openblas64/include\n",
      "    lib directory: /opt/_internal/cpython-3.12.7/lib/python3.12/site-packages/scipy_openblas64/lib\n",
      "    name: scipy-openblas\n",
      "    openblas configuration: OpenBLAS 0.3.27  USE64BITINT DYNAMIC_ARCH NO_AFFINITY\n",
      "      Haswell MAX_THREADS=64\n",
      "    pc file directory: /project/.openblas\n",
      "    version: 0.3.27\n",
      "  lapack:\n",
      "    detection method: pkgconfig\n",
      "    found: true\n",
      "    include directory: /opt/_internal/cpython-3.12.7/lib/python3.12/site-packages/scipy_openblas64/include\n",
      "    lib directory: /opt/_internal/cpython-3.12.7/lib/python3.12/site-packages/scipy_openblas64/lib\n",
      "    name: scipy-openblas\n",
      "    openblas configuration: OpenBLAS 0.3.27  USE64BITINT DYNAMIC_ARCH NO_AFFINITY\n",
      "      Haswell MAX_THREADS=64\n",
      "    pc file directory: /project/.openblas\n",
      "    version: 0.3.27\n",
      "Compilers:\n",
      "  c:\n",
      "    commands: cc\n",
      "    linker: ld.bfd\n",
      "    name: gcc\n",
      "    version: 10.2.1\n",
      "  c++:\n",
      "    commands: c++\n",
      "    linker: ld.bfd\n",
      "    name: gcc\n",
      "    version: 10.2.1\n",
      "  cython:\n",
      "    commands: cython\n",
      "    linker: cython\n",
      "    name: cython\n",
      "    version: 3.0.11\n",
      "Machine Information:\n",
      "  build:\n",
      "    cpu: x86_64\n",
      "    endian: little\n",
      "    family: x86_64\n",
      "    system: linux\n",
      "  host:\n",
      "    cpu: x86_64\n",
      "    endian: little\n",
      "    family: x86_64\n",
      "    system: linux\n",
      "Python Information:\n",
      "  path: /tmp/build-env-_wd9mzfv/bin/python\n",
      "  version: '3.12'\n",
      "SIMD Extensions:\n",
      "  baseline:\n",
      "  - SSE\n",
      "  - SSE2\n",
      "  - SSE3\n",
      "  found:\n",
      "  - SSSE3\n",
      "  - SSE41\n",
      "  - POPCNT\n",
      "  - SSE42\n",
      "  - AVX\n",
      "  - F16C\n",
      "  - FMA3\n",
      "  - AVX2\n",
      "  - AVX512F\n",
      "  - AVX512CD\n",
      "  - AVX512_SKX\n",
      "  - AVX512_CLX\n",
      "  - AVX512_CNL\n",
      "  - AVX512_ICL\n",
      "  not found:\n",
      "  - AVX512_KNL\n",
      "  - AVX512_KNM\n",
      "\n"
     ]
    }
   ],
   "source": [
    "import numpy as np\n",
    "np.__config__.show()\n",
    "import os\n",
    "os.environ['OPENBLAS_NUM_THREADS'] = '1'\n",
    "os.environ['MKL_NUM_THREADS'] = '1'\n",
    "\n",
    "import random\n",
    "import matplotlib.pyplot as plt\n",
    "from numba import njit\n",
    "import multiprocessing, pathos.multiprocessing\n",
    "from tqdm.notebook import tqdm\n",
    "import os\n",
    "import time"
   ]
  },
  {
   "cell_type": "code",
   "execution_count": 44,
   "id": "f190229f-5933-4eec-a9c7-b87065e02a42",
   "metadata": {},
   "outputs": [],
   "source": [
    "def GenerateDay(self) :\n",
    "        self.TypeDays[self.Today] += 1\n",
    "\n",
    "        if self.Today == 0 :\n",
    "            rand = random.random()\n",
    "            if rand < 0.9 :\n",
    "                self.Today = 0 \n",
    "            elif rand < 0.975 :\n",
    "                self.Today = 1 \n",
    "            else :\n",
    "                self.Today = 2\n",
    "\n",
    "        if self.Today == 1 :\n",
    "            rand = random.random()\n",
    "            if rand < 0.15 :\n",
    "                self.Today = 0 \n",
    "            elif rand < 0.95 :\n",
    "                self.Today = 1 \n",
    "            else :\n",
    "                self.Today = 2\n",
    "\n",
    "        if self.Today == 2 :\n",
    "            rand = random.random()\n",
    "            if rand < 0.25 :\n",
    "                self.Today = 0 \n",
    "            elif rand < 0.5 :\n",
    "                self.Today = 1 \n",
    "            else :\n",
    "                self.Today = 2\n",
    "\n",
    "        return self.Today,self.CurrentFraction()\n",
    "\n",
    "def GenerateMultipleDays(self,days) :\n",
    "    results = np.zeros((days,3))\n",
    "    for i in range(days) :\n",
    "        __,fractions = GenerateDay(self)\n",
    "        results[i,:] = fractions\n",
    "        \n",
    "    return results\n",
    "        \n",
    "class Market :\n",
    "    \n",
    "    def __init__(self) :\n",
    "        self.TypeDays = [0,0,0] #Pos 0 -> Bull, Pos 1 -> Bear, Pos 2 -> Stagnant\n",
    "        self.Today = random.randint(0,2)\n",
    "\n",
    "    def CurrentFraction(self) :\n",
    "        total = sum(self.TypeDays)\n",
    "        return np.array(self.TypeDays)/total\n",
    "\n",
    "    def Plot(self) :\n",
    "        labels = [\"Bull Market\",\"Bear Market\",\"Stagnant Market\"]\n",
    "        plt.bar(labels,self.TypeDays,width=0.5, align='center', edgecolor='black')\n",
    "        plt.show()"
   ]
  },
  {
   "cell_type": "code",
   "execution_count": 45,
   "id": "ded1d9c2-8532-4ce0-a2ae-98b461c0fbce",
   "metadata": {},
   "outputs": [],
   "source": [
    "repetitions = 1_000_000\n",
    "\n",
    "MarketObj = Market()\n",
    "results = GenerateMultipleDays(MarketObj,repetitions)\n",
    "Bull_fractions = [results[0] for results in results]\n",
    "Bear_fractions = [results[1] for results in results]\n",
    "Stagnant_fractions = [results[2] for results in results]"
   ]
  },
  {
   "cell_type": "code",
   "execution_count": 46,
   "id": "df46c585-03c3-4f27-8b35-ddfa1e72c2b6",
   "metadata": {},
   "outputs": [
    {
     "name": "stdout",
     "output_type": "stream",
     "text": [
      "3.14 s ± 47 ms per loop (mean ± std. dev. of 7 runs, 1 loop each)\n"
     ]
    }
   ],
   "source": [
    "%%timeit\n",
    "\n",
    "MarketObj = Market()\n",
    "results = GenerateMultipleDays(MarketObj,repetitions)\n",
    "Bull_fractions = [results[0] for results in results]\n",
    "Bear_fractions = [results[1] for results in results]\n",
    "Stagnant_fractions = [results[2] for results in results]"
   ]
  },
  {
   "cell_type": "code",
   "execution_count": 47,
   "id": "df4d9daa-79de-4bea-83a2-8371c55e4d78",
   "metadata": {},
   "outputs": [
    {
     "data": {
      "image/png": "[encoded data removed]",
      "text/plain": [
       "<Figure size 800x600 with 3 Axes>"
      ]
     },
     "metadata": {},
     "output_type": "display_data"
    }
   ],
   "source": [
    "fig, (ax1, ax2, ax3) = plt.subplots(3, 1, sharex=True, figsize=(8, 6))\n",
    "\n",
    "x = np.linspace(0,repetitions,repetitions)\n",
    "\n",
    "# Plot on each subplot\n",
    "ax1.plot(x, Bull_fractions, label='Fraction of bull markets', color='blue')\n",
    "ax2.plot(x, Bear_fractions, label='Fraction of bear markets', color='green')\n",
    "ax3.plot(x, Stagnant_fractions, label='Fraction of stagnant markets', color='red')\n",
    "\n",
    "# Add labels and legends\n",
    "ax1.set_ylabel('Probability')\n",
    "ax2.set_ylabel('Probability')\n",
    "ax3.set_ylabel('Probability')\n",
    "ax3.set_xlabel('Days')\n",
    "\n",
    "ax1.legend()\n",
    "ax2.legend()\n",
    "ax3.legend()\n",
    "\n",
    "# Adjust layout to prevent overlap\n",
    "plt.tight_layout()\n",
    "plt.show()"
   ]
  },
  {
   "cell_type": "markdown",
   "id": "0d3affcb-ade2-4a2b-b7a1-2baf010f2683",
   "metadata": {},
   "source": [
    "It is converging as expected"
   ]
  },
  {
   "cell_type": "code",
   "execution_count": 48,
   "id": "1ba4b37c-3bb7-4763-877d-33cbe629fcc6",
   "metadata": {},
   "outputs": [],
   "source": [
    "@njit\n",
    "def CurrentFraction(TypeDays):\n",
    "    total = np.sum(TypeDays)\n",
    "    fractions = np.empty(3)\n",
    "    for i in range(3):\n",
    "        fractions[i] = TypeDays[i] / total\n",
    "    return fractions\n",
    "\n",
    "@njit\n",
    "def Fast_GenerateDay(TypeDays,Today) :\n",
    "        TypeDays[Today] += 1\n",
    "\n",
    "        if Today == 0 :\n",
    "            rand = np.random.rand()\n",
    "            if rand < 0.9 :\n",
    "                Today = 0 \n",
    "            elif rand < 0.975 :\n",
    "                Today = 1 \n",
    "            else :\n",
    "                Today = 2\n",
    "\n",
    "        if Today == 1 :\n",
    "            rand = random.random()\n",
    "            if rand < 0.15 :\n",
    "                Today = 0 \n",
    "            elif rand < 0.95 :\n",
    "                Today = 1 \n",
    "            else :\n",
    "                Today = 2\n",
    "\n",
    "        if Today == 2 :\n",
    "            rand = random.random()\n",
    "            if rand < 0.25 :\n",
    "                Today = 0 \n",
    "            elif rand < 0.5 :\n",
    "                Today = 1 \n",
    "            else :\n",
    "                Today = 2\n",
    "\n",
    "        return Today,CurrentFraction(TypeDays)\n",
    "\n",
    "@njit\n",
    "def Fast_GenerateMultipleDays(TypeDays, Today, days):\n",
    "    results = np.zeros((days, 3))\n",
    "\n",
    "    for i in range(days):\n",
    "        Today , fractions = Fast_GenerateDay(TypeDays, Today)\n",
    "        results[i, 0] = fractions[0]\n",
    "        results[i, 1] = fractions[1]\n",
    "        results[i, 2] = fractions[2]\n",
    "        \n",
    "    return results"
   ]
  },
  {
   "cell_type": "code",
   "execution_count": 49,
   "id": "b9147b73-adea-4827-aedc-3e115f368d00",
   "metadata": {},
   "outputs": [],
   "source": [
    "TypeDays = np.zeros(3)\n",
    "Today = random.randint(0,2)\n",
    "results = Fast_GenerateMultipleDays(TypeDays,Today,repetitions)\n",
    "Bull_fractions = [results[0] for results in results]\n",
    "Bear_fractions = [results[1] for results in results]\n",
    "Stagnant_fractions = [results[2] for results in results]"
   ]
  },
  {
   "cell_type": "code",
   "execution_count": 50,
   "id": "3c36be9f-e74e-49a3-b86f-6a99b6ac54fa",
   "metadata": {},
   "outputs": [
    {
     "name": "stdout",
     "output_type": "stream",
     "text": [
      "525 ms ± 688 μs per loop (mean ± std. dev. of 7 runs, 1 loop each)\n"
     ]
    }
   ],
   "source": [
    "%%timeit\n",
    "TypeDays = np.zeros(3)\n",
    "Today = random.randint(0,2)\n",
    "results = Fast_GenerateMultipleDays(TypeDays,Today,repetitions)\n",
    "Bull_fractions = [results[0] for results in results]\n",
    "Bear_fractions = [results[1] for results in results]\n",
    "Stagnant_fractions = [results[2] for results in results]"
   ]
  },
  {
   "cell_type": "markdown",
   "id": "2ff346ed-7e40-45ed-aa20-ae684c591b52",
   "metadata": {},
   "source": [
    "**Around 6 times faster: from 3s to 500 ms**"
   ]
  },
  {
   "cell_type": "code",
   "execution_count": 51,
   "id": "29b20af3-9aa8-492a-aed3-8f21db4c5525",
   "metadata": {},
   "outputs": [
    {
     "data": {
      "image/png": "[encoded data removed]",
      "text/plain": [
       "<Figure size 800x600 with 3 Axes>"
      ]
     },
     "metadata": {},
     "output_type": "display_data"
    }
   ],
   "source": [
    "fig, (ax1, ax2, ax3) = plt.subplots(3, 1, sharex=True, figsize=(8, 6))\n",
    "\n",
    "x = np.linspace(0,repetitions,repetitions)\n",
    "\n",
    "# Plot on each subplot\n",
    "ax1.plot(x, Bull_fractions, label='Fraction of bull markets', color='blue')\n",
    "ax2.plot(x, Bear_fractions, label='Fraction of bear markets', color='green')\n",
    "ax3.plot(x, Stagnant_fractions, label='Fraction of stagnant markets', color='red')\n",
    "\n",
    "# Add labels and legends\n",
    "ax1.set_ylabel('Probability')\n",
    "ax2.set_ylabel('Probability')\n",
    "ax3.set_ylabel('Probability')\n",
    "ax3.set_xlabel('Days')\n",
    "\n",
    "ax1.legend()\n",
    "ax2.legend()\n",
    "ax3.legend()\n",
    "\n",
    "# Adjust layout to prevent overlap\n",
    "plt.tight_layout()\n",
    "plt.show()"
   ]
  },
  {
   "cell_type": "markdown",
   "id": "79e84d3f-fd09-4492-992b-2fff5ce61797",
   "metadata": {},
   "source": [
    "## Q3: Scaling  \n",
    "I am using a code I written. Its purpose is to calculate the time of flight (ToF) of a photon generated in a random point inside the JUNO detector.\n",
    "The goal was to calculate the ToFs using the simple calculation reported here, then making a more complex calculation taking into account the difference in index of refraction between water and scintillator liquid in the detector in order to evaluate if the difference was significative or this simplified calculation had sufficient precision.\n",
    "\n",
    "Note : JUNO is a spherical detector, with a radius of 20 m. The internal part is filled with liquid scintillator, but there is a small shell of water (1.5 m of thickness) at the edge that could impact the ToF calculations. I wanted to determine how big was this impact. Here I have written only the code used to make the most simple calculation possible, that is assuming I can use only the scintillator refracting index for the whole calculation. "
   ]
  },
  {
   "cell_type": "code",
   "execution_count": 2,
   "id": "651a7afe-8c54-4218-bfac-03201a2b8fe1",
   "metadata": {},
   "outputs": [],
   "source": [
    "R_JUNO = 19.4\n",
    "R_FV = 14\n",
    "R_LS = 17.7 \n",
    "n_scint = 1.51303\n",
    "n_water = 1.33\n",
    "c = 299792458\n",
    "\n",
    "def CalculateEffective_n (arg) :\n",
    "\n",
    "    def distance(x,y,z,x1,y1,z1) :\n",
    "        return np.sqrt((x-x1)**2 + (y-y1)**2 + (z-z1)**2)\n",
    "\n",
    "    def intersection (x,y,z,x_dir,y_dir,z_dir,R) : \n",
    "        denom = 2*(x_dir**2+y_dir**2+z_dir**2)\n",
    "        sroot = (2*x*x_dir + 2*y*y_dir + 2*z*z_dir)**2 - 4*(x_dir**2 + y_dir**2 + z_dir**2)*(x**2+y**2+z**2-R**2)\n",
    "        num = -(2*x*x_dir + 2*y*y_dir + 2*z*z_dir) + np.sqrt(sroot)\n",
    "        \n",
    "        t = num/denom\n",
    "        x_out = x+x_dir*t\n",
    "        y_out = y+y_dir*t\n",
    "        z_out = z+z_dir*t\n",
    "        \n",
    "        return x_out,y_out,z_out\n",
    "\n",
    "    def simple_path_time (x,y,z,x_onPMT,y_onPMT,z_onPMT) :\n",
    "        return (distance(x,y,z,x_onPMT,y_onPMT,z_onPMT)/c*n_scint) * 10**9\n",
    "    \n",
    "    def spherical_to_cartesian(r,theta,phi) :\n",
    "        x= r*np.sin(phi)*np.cos(theta)\n",
    "        y= r*np.sin(phi)*np.sin(theta)\n",
    "        z= r*np.cos(phi)\n",
    "        return x,y,z\n",
    "\n",
    "    def cartesian_to_spherical (x,y,z) :\n",
    "        r = np.sqrt(x**2+y**2+z**2)\n",
    "        if (r != 0) :\n",
    "            phi = np.arccos(z/r)\n",
    "            theta = np.arctan2(y,x) \n",
    "        else :\n",
    "            phi = 0\n",
    "            theta = 0\n",
    "            \n",
    "        return r,theta,phi\n",
    "\n",
    "    R, theta, phi, theta_dir, phi_dir = arg\n",
    "    x,y,z = spherical_to_cartesian(R,theta,phi)\n",
    "    x_dir,y_dir,z_dir = spherical_to_cartesian(1,theta_dir,phi_dir)\n",
    "        \n",
    "    x_onLs,y_onLs,z_onLs = intersection(x,y,z,x_dir,y_dir,z_dir,R_LS)\n",
    "    x_onPMT,y_onPMT,z_onPMT = intersection(x,y,z,x_dir,y_dir,z_dir,R_JUNO)\n",
    "        \n",
    "    ToF = simple_path_time(x,y,z,x_onPMT,y_onPMT,z_onPMT)\n",
    " \n",
    "    return ToF"
   ]
  },
  {
   "cell_type": "code",
   "execution_count": 3,
   "id": "9bd6826f-e2e9-4f91-9a7a-c1d2dbf5f0c7",
   "metadata": {},
   "outputs": [
    {
     "name": "stdout",
     "output_type": "stream",
     "text": [
      "It took 0.15 s \n"
     ]
    }
   ],
   "source": [
    "start = time.time()\n",
    "MaxRadius = 15.\n",
    "N = 10_000\n",
    "Rs = MaxRadius*np.random.uniform(0,1,size=N)\n",
    "Thetas = np.random.uniform(0,2*np.pi,size=N)\n",
    "Phis = np.arccos(1-2*np.random.uniform(0,1,size=N))\n",
    "\n",
    "Theta_dirs = np.random.uniform(0,2*np.pi,size=N)\n",
    "Phi_dirs = np.arccos(1-2*np.random.uniform(0,1,size=N))\n",
    "\n",
    "ToFs = list(map(CalculateEffective_n,zip(Rs,Thetas,Phis,Theta_dirs,Phi_dirs)))\n",
    "\n",
    "end = time.time()\n",
    "Time_taken = end - start\n",
    "\n",
    "print(f\"It took {Time_taken:.2f} s \")"
   ]
  },
  {
   "cell_type": "code",
   "execution_count": 4,
   "id": "85d1062c-bb07-4271-a8db-501214a240b3",
   "metadata": {},
   "outputs": [
    {
     "data": {
      "image/png": "[encoded data removed]",
      "text/plain": [
       "<Figure size 640x480 with 1 Axes>"
      ]
     },
     "metadata": {},
     "output_type": "display_data"
    }
   ],
   "source": [
    "plt.hist(ToFs,bins=100)\n",
    "plt.show()"
   ]
  },
  {
   "cell_type": "code",
   "execution_count": 5,
   "id": "53272fbd-7ed4-42b3-9268-a67d9f573484",
   "metadata": {},
   "outputs": [
    {
     "data": {
      "text/plain": [
       "8"
      ]
     },
     "execution_count": 5,
     "metadata": {},
     "output_type": "execute_result"
    }
   ],
   "source": [
    "multiprocessing.cpu_count()"
   ]
  },
  {
   "cell_type": "markdown",
   "id": "d95262a4-96f5-4bec-88ee-d0c88c72d966",
   "metadata": {},
   "source": [
    "I have 8 cores in my machine"
   ]
  },
  {
   "cell_type": "code",
   "execution_count": 6,
   "id": "7ac53d79-0471-4504-b08d-0635ef4c863b",
   "metadata": {},
   "outputs": [
    {
     "data": {
      "application/vnd.jupyter.widget-view+json": {
       "model_id": "684981a92bdd462499a8c1c5cebe18b3",
       "version_major": 2,
       "version_minor": 0
      },
      "text/plain": [
       "  0%|          | 0/10000 [00:00<?, ?it/s]"
      ]
     },
     "metadata": {},
     "output_type": "display_data"
    },
    {
     "name": "stdout",
     "output_type": "stream",
     "text": [
      "For 1 CPUs it took 6.88 s \n"
     ]
    },
    {
     "data": {
      "application/vnd.jupyter.widget-view+json": {
       "model_id": "2bb01e88381c44d1bc8dd5e6e4a54377",
       "version_major": 2,
       "version_minor": 0
      },
      "text/plain": [
       "  0%|          | 0/10000 [00:00<?, ?it/s]"
      ]
     },
     "metadata": {},
     "output_type": "display_data"
    },
    {
     "name": "stdout",
     "output_type": "stream",
     "text": [
      "For 2 CPUs it took 7.30 s \n"
     ]
    },
    {
     "data": {
      "application/vnd.jupyter.widget-view+json": {
       "model_id": "996636a2fa2c444ea8fb7334ce2d0311",
       "version_major": 2,
       "version_minor": 0
      },
      "text/plain": [
       "  0%|          | 0/10000 [00:00<?, ?it/s]"
      ]
     },
     "metadata": {},
     "output_type": "display_data"
    },
    {
     "name": "stdout",
     "output_type": "stream",
     "text": [
      "For 3 CPUs it took 7.40 s \n"
     ]
    },
    {
     "data": {
      "application/vnd.jupyter.widget-view+json": {
       "model_id": "8d19ad439d214b2dada0a06278aea836",
       "version_major": 2,
       "version_minor": 0
      },
      "text/plain": [
       "  0%|          | 0/10000 [00:00<?, ?it/s]"
      ]
     },
     "metadata": {},
     "output_type": "display_data"
    },
    {
     "name": "stdout",
     "output_type": "stream",
     "text": [
      "For 4 CPUs it took 7.39 s \n"
     ]
    },
    {
     "data": {
      "application/vnd.jupyter.widget-view+json": {
       "model_id": "ebe04e0e703044e0aa62e789e624a572",
       "version_major": 2,
       "version_minor": 0
      },
      "text/plain": [
       "  0%|          | 0/10000 [00:00<?, ?it/s]"
      ]
     },
     "metadata": {},
     "output_type": "display_data"
    },
    {
     "name": "stdout",
     "output_type": "stream",
     "text": [
      "For 5 CPUs it took 7.30 s \n"
     ]
    },
    {
     "data": {
      "application/vnd.jupyter.widget-view+json": {
       "model_id": "9caa7582b400469d9275d1aeacf1c6c8",
       "version_major": 2,
       "version_minor": 0
      },
      "text/plain": [
       "  0%|          | 0/10000 [00:00<?, ?it/s]"
      ]
     },
     "metadata": {},
     "output_type": "display_data"
    },
    {
     "name": "stdout",
     "output_type": "stream",
     "text": [
      "For 6 CPUs it took 7.55 s \n"
     ]
    },
    {
     "data": {
      "application/vnd.jupyter.widget-view+json": {
       "model_id": "7836b80b34c741558ce9f952b8b4e963",
       "version_major": 2,
       "version_minor": 0
      },
      "text/plain": [
       "  0%|          | 0/10000 [00:00<?, ?it/s]"
      ]
     },
     "metadata": {},
     "output_type": "display_data"
    },
    {
     "name": "stdout",
     "output_type": "stream",
     "text": [
      "For 7 CPUs it took 7.97 s \n"
     ]
    },
    {
     "data": {
      "application/vnd.jupyter.widget-view+json": {
       "model_id": "71a264ed529e49eba5cb2f695499d57b",
       "version_major": 2,
       "version_minor": 0
      },
      "text/plain": [
       "  0%|          | 0/10000 [00:00<?, ?it/s]"
      ]
     },
     "metadata": {},
     "output_type": "display_data"
    },
    {
     "name": "stdout",
     "output_type": "stream",
     "text": [
      "For 8 CPUs it took 7.47 s \n"
     ]
    },
    {
     "data": {
      "application/vnd.jupyter.widget-view+json": {
       "model_id": "e5d22e96a3eb445ca84fd209605688bd",
       "version_major": 2,
       "version_minor": 0
      },
      "text/plain": [
       "  0%|          | 0/10000 [00:00<?, ?it/s]"
      ]
     },
     "metadata": {},
     "output_type": "display_data"
    },
    {
     "name": "stdout",
     "output_type": "stream",
     "text": [
      "For 9 CPUs it took 7.47 s \n"
     ]
    },
    {
     "data": {
      "application/vnd.jupyter.widget-view+json": {
       "model_id": "fc0fc9d8d2594387a6a99b3f5d2a6deb",
       "version_major": 2,
       "version_minor": 0
      },
      "text/plain": [
       "  0%|          | 0/10000 [00:00<?, ?it/s]"
      ]
     },
     "metadata": {},
     "output_type": "display_data"
    },
    {
     "name": "stdout",
     "output_type": "stream",
     "text": [
      "For 10 CPUs it took 7.52 s \n"
     ]
    },
    {
     "data": {
      "application/vnd.jupyter.widget-view+json": {
       "model_id": "9b5d68f0958f4ea49550e0a165d0a9fc",
       "version_major": 2,
       "version_minor": 0
      },
      "text/plain": [
       "  0%|          | 0/10000 [00:00<?, ?it/s]"
      ]
     },
     "metadata": {},
     "output_type": "display_data"
    },
    {
     "name": "stdout",
     "output_type": "stream",
     "text": [
      "For 11 CPUs it took 7.62 s \n"
     ]
    },
    {
     "data": {
      "application/vnd.jupyter.widget-view+json": {
       "model_id": "7eee15895e5f4811b7cd92e372eeb07a",
       "version_major": 2,
       "version_minor": 0
      },
      "text/plain": [
       "  0%|          | 0/10000 [00:00<?, ?it/s]"
      ]
     },
     "metadata": {},
     "output_type": "display_data"
    },
    {
     "name": "stdout",
     "output_type": "stream",
     "text": [
      "For 12 CPUs it took 7.55 s \n"
     ]
    },
    {
     "data": {
      "application/vnd.jupyter.widget-view+json": {
       "model_id": "2235f497098c4e568943c4882332c6aa",
       "version_major": 2,
       "version_minor": 0
      },
      "text/plain": [
       "  0%|          | 0/10000 [00:00<?, ?it/s]"
      ]
     },
     "metadata": {},
     "output_type": "display_data"
    },
    {
     "name": "stdout",
     "output_type": "stream",
     "text": [
      "For 13 CPUs it took 7.69 s \n"
     ]
    },
    {
     "data": {
      "application/vnd.jupyter.widget-view+json": {
       "model_id": "93e8532302784efa92fd732109d00e8d",
       "version_major": 2,
       "version_minor": 0
      },
      "text/plain": [
       "  0%|          | 0/10000 [00:00<?, ?it/s]"
      ]
     },
     "metadata": {},
     "output_type": "display_data"
    },
    {
     "name": "stdout",
     "output_type": "stream",
     "text": [
      "For 14 CPUs it took 7.85 s \n"
     ]
    }
   ],
   "source": [
    "Times = []\n",
    "\n",
    "\n",
    "for CPU in range(1,15) :\n",
    "\n",
    "    start = time.time()\n",
    "    parmap = pathos.multiprocessing.ProcessingPool(CPU).imap\n",
    "    ToFs = list(tqdm(parmap(CalculateEffective_n,zip(Rs,Thetas,Phis,Theta_dirs,Phi_dirs)),total=N))\n",
    "    end = time.time()\n",
    "    Times.append(end-start)\n",
    "    print(f\"For {CPU} CPUs it took {end-start:.2f} s \")"
   ]
  },
  {
   "cell_type": "code",
   "execution_count": 7,
   "id": "15517bd8-ad0f-490b-93b8-171d01ba8185",
   "metadata": {},
   "outputs": [
    {
     "data": {
      "image/png": "[encoded data removed]",
      "text/plain": [
       "<Figure size 640x480 with 1 Axes>"
      ]
     },
     "metadata": {},
     "output_type": "display_data"
    }
   ],
   "source": [
    "plt.plot(np.arange(1,15),Times)\n",
    "plt.ylabel(\"Time taken (s)\")\n",
    "plt.xlabel(\"# CPUs\")\n",
    "plt.show()"
   ]
  },
  {
   "cell_type": "code",
   "execution_count": 9,
   "id": "24cae99a-9f64-4fa3-8f1e-b33dec664cf5",
   "metadata": {},
   "outputs": [
    {
     "data": {
      "image/png": "[encoded data removed]",
      "text/plain": [
       "<Figure size 640x480 with 1 Axes>"
      ]
     },
     "metadata": {},
     "output_type": "display_data"
    }
   ],
   "source": [
    "Times = np.array(Times)\n",
    "Speedup = Times[0]/Times\n",
    "plt.plot(np.arange(1,15),Speedup,label=\"Real speedup\")\n",
    "plt.plot(np.arange(1,15),np.arange(1,15),label=\"Theoretical Speedup\")\n",
    "plt.ylabel(\"Speedup\")\n",
    "plt.xlabel(\"# CPUs\")\n",
    "plt.legend()\n",
    "plt.show()"
   ]
  },
  {
   "cell_type": "markdown",
   "id": "2f056471-356a-4ce0-b78d-ba380a94da7f",
   "metadata": {},
   "source": [
    "Here I see no speedup at all, parallelization adds only overhead to the calculation.\n",
    "Here seems that the limiting factor is not solvable by this simple parallelization technique. I have already written the code to do this analysis in C++, and it is reasonably fast"
   ]
  },
  {
   "cell_type": "markdown",
   "id": "75d6e1f0-eabb-4da8-883f-50eb1118db0c",
   "metadata": {},
   "source": [
    "### Test number 2\n",
    "\n",
    "To check if there is something wrong, I also checked with a toy example if I see any amount of speedup"
   ]
  },
  {
   "cell_type": "code",
   "execution_count": 14,
   "id": "0e2b593b-a0a7-4149-8480-b4413914b85a",
   "metadata": {},
   "outputs": [],
   "source": [
    "def multiply(args) :\n",
    "    a,b = args\n",
    "    time.sleep(0.5)\n",
    "    return a*b\n",
    "\n",
    "a = np.linspace(0,1,100)\n",
    "b = np.linspace(1,2,100)"
   ]
  },
  {
   "cell_type": "code",
   "execution_count": 15,
   "id": "69c9b8e1-cf6e-4322-8df8-8407a6b75dc8",
   "metadata": {},
   "outputs": [
    {
     "data": {
      "application/vnd.jupyter.widget-view+json": {
       "model_id": "5ea9da97220e4f8e97008da13f842aa5",
       "version_major": 2,
       "version_minor": 0
      },
      "text/plain": [
       "  0%|          | 0/100 [00:00<?, ?it/s]"
      ]
     },
     "metadata": {},
     "output_type": "display_data"
    },
    {
     "name": "stdout",
     "output_type": "stream",
     "text": [
      "For 1 CPUs it took 50.10 s \n"
     ]
    },
    {
     "data": {
      "application/vnd.jupyter.widget-view+json": {
       "model_id": "52afd89a51c544c6b5a845a5a6766761",
       "version_major": 2,
       "version_minor": 0
      },
      "text/plain": [
       "  0%|          | 0/100 [00:00<?, ?it/s]"
      ]
     },
     "metadata": {},
     "output_type": "display_data"
    },
    {
     "name": "stdout",
     "output_type": "stream",
     "text": [
      "For 2 CPUs it took 25.06 s \n"
     ]
    },
    {
     "data": {
      "application/vnd.jupyter.widget-view+json": {
       "model_id": "8f80b7c7eb2f42f5a3a04d6aa6af7127",
       "version_major": 2,
       "version_minor": 0
      },
      "text/plain": [
       "  0%|          | 0/100 [00:00<?, ?it/s]"
      ]
     },
     "metadata": {},
     "output_type": "display_data"
    },
    {
     "name": "stdout",
     "output_type": "stream",
     "text": [
      "For 3 CPUs it took 17.04 s \n"
     ]
    },
    {
     "data": {
      "application/vnd.jupyter.widget-view+json": {
       "model_id": "ada0f8c1d6b247dc9b5adb4b8a3fe391",
       "version_major": 2,
       "version_minor": 0
      },
      "text/plain": [
       "  0%|          | 0/100 [00:00<?, ?it/s]"
      ]
     },
     "metadata": {},
     "output_type": "display_data"
    },
    {
     "name": "stdout",
     "output_type": "stream",
     "text": [
      "For 4 CPUs it took 12.54 s \n"
     ]
    },
    {
     "data": {
      "application/vnd.jupyter.widget-view+json": {
       "model_id": "31798e251f9648d0aee10b82c722fe3d",
       "version_major": 2,
       "version_minor": 0
      },
      "text/plain": [
       "  0%|          | 0/100 [00:00<?, ?it/s]"
      ]
     },
     "metadata": {},
     "output_type": "display_data"
    },
    {
     "name": "stdout",
     "output_type": "stream",
     "text": [
      "For 5 CPUs it took 10.03 s \n"
     ]
    },
    {
     "data": {
      "application/vnd.jupyter.widget-view+json": {
       "model_id": "b725c9621adc406794ee9141c5320b72",
       "version_major": 2,
       "version_minor": 0
      },
      "text/plain": [
       "  0%|          | 0/100 [00:00<?, ?it/s]"
      ]
     },
     "metadata": {},
     "output_type": "display_data"
    },
    {
     "name": "stdout",
     "output_type": "stream",
     "text": [
      "For 6 CPUs it took 8.52 s \n"
     ]
    },
    {
     "data": {
      "application/vnd.jupyter.widget-view+json": {
       "model_id": "e4c5def764d04119bb364cd595d77021",
       "version_major": 2,
       "version_minor": 0
      },
      "text/plain": [
       "  0%|          | 0/100 [00:00<?, ?it/s]"
      ]
     },
     "metadata": {},
     "output_type": "display_data"
    },
    {
     "name": "stdout",
     "output_type": "stream",
     "text": [
      "For 7 CPUs it took 7.53 s \n"
     ]
    },
    {
     "data": {
      "application/vnd.jupyter.widget-view+json": {
       "model_id": "5b7cc77f3d174c9ab8357e6ff0006efa",
       "version_major": 2,
       "version_minor": 0
      },
      "text/plain": [
       "  0%|          | 0/100 [00:00<?, ?it/s]"
      ]
     },
     "metadata": {},
     "output_type": "display_data"
    },
    {
     "name": "stdout",
     "output_type": "stream",
     "text": [
      "For 8 CPUs it took 6.52 s \n"
     ]
    },
    {
     "data": {
      "application/vnd.jupyter.widget-view+json": {
       "model_id": "2b26835df6a14b6781b7fe57b50c2b8c",
       "version_major": 2,
       "version_minor": 0
      },
      "text/plain": [
       "  0%|          | 0/100 [00:00<?, ?it/s]"
      ]
     },
     "metadata": {},
     "output_type": "display_data"
    },
    {
     "name": "stdout",
     "output_type": "stream",
     "text": [
      "For 9 CPUs it took 6.02 s \n"
     ]
    },
    {
     "data": {
      "application/vnd.jupyter.widget-view+json": {
       "model_id": "6ee2273d20b7459ebc1e8012907e6fa2",
       "version_major": 2,
       "version_minor": 0
      },
      "text/plain": [
       "  0%|          | 0/100 [00:00<?, ?it/s]"
      ]
     },
     "metadata": {},
     "output_type": "display_data"
    },
    {
     "name": "stdout",
     "output_type": "stream",
     "text": [
      "For 10 CPUs it took 5.03 s \n"
     ]
    },
    {
     "data": {
      "application/vnd.jupyter.widget-view+json": {
       "model_id": "9fee818d440d45f8814e7faec89c7409",
       "version_major": 2,
       "version_minor": 0
      },
      "text/plain": [
       "  0%|          | 0/100 [00:00<?, ?it/s]"
      ]
     },
     "metadata": {},
     "output_type": "display_data"
    },
    {
     "name": "stdout",
     "output_type": "stream",
     "text": [
      "For 11 CPUs it took 5.01 s \n"
     ]
    },
    {
     "data": {
      "application/vnd.jupyter.widget-view+json": {
       "model_id": "8e214ee545d84090a25c6a90395f1815",
       "version_major": 2,
       "version_minor": 0
      },
      "text/plain": [
       "  0%|          | 0/100 [00:00<?, ?it/s]"
      ]
     },
     "metadata": {},
     "output_type": "display_data"
    },
    {
     "name": "stdout",
     "output_type": "stream",
     "text": [
      "For 12 CPUs it took 4.52 s \n"
     ]
    },
    {
     "data": {
      "application/vnd.jupyter.widget-view+json": {
       "model_id": "e12efd53ba2a467a96540ac79e3a846d",
       "version_major": 2,
       "version_minor": 0
      },
      "text/plain": [
       "  0%|          | 0/100 [00:00<?, ?it/s]"
      ]
     },
     "metadata": {},
     "output_type": "display_data"
    },
    {
     "name": "stdout",
     "output_type": "stream",
     "text": [
      "For 13 CPUs it took 4.02 s \n"
     ]
    },
    {
     "data": {
      "application/vnd.jupyter.widget-view+json": {
       "model_id": "de3a2ba7fe02442b88be3e4bde10a961",
       "version_major": 2,
       "version_minor": 0
      },
      "text/plain": [
       "  0%|          | 0/100 [00:00<?, ?it/s]"
      ]
     },
     "metadata": {},
     "output_type": "display_data"
    },
    {
     "name": "stdout",
     "output_type": "stream",
     "text": [
      "For 14 CPUs it took 4.02 s \n"
     ]
    }
   ],
   "source": [
    "Times_2nd_try = []\n",
    "for CPU in range(1,15) :\n",
    "\n",
    "    start = time.time()\n",
    "    parmap = pathos.multiprocessing.ProcessingPool(CPU).imap\n",
    "    ToFs = list(tqdm(parmap(multiply,zip(a,b)),total=100))\n",
    "    end = time.time()\n",
    "    Times_2nd_try.append(end-start)\n",
    "    print(f\"For {CPU} CPUs it took {end-start:.2f} s \")"
   ]
  },
  {
   "cell_type": "code",
   "execution_count": 18,
   "id": "428a2bb8-ecd8-4c54-9c40-209eed3aafa3",
   "metadata": {},
   "outputs": [
    {
     "data": {
      "image/png": "[encoded data removed]",
      "text/plain": [
       "<Figure size 640x480 with 1 Axes>"
      ]
     },
     "metadata": {},
     "output_type": "display_data"
    }
   ],
   "source": [
    "plt.plot(np.arange(1,15),Times_2nd_try)\n",
    "plt.ylabel(\"Time taken (s)\")\n",
    "plt.xlabel(\"# CPUs\")\n",
    "plt.show()"
   ]
  },
  {
   "cell_type": "markdown",
   "id": "b169d739-4889-4908-acca-edff9aa803c4",
   "metadata": {},
   "source": [
    "As expected, the time taken decreases sharply with the increase of CPU numbers until 8 (the number of CPUs in my machine), then it starts flattening.\n",
    "It is curious that it is still decreasing, even if the decrease is slower."
   ]
  },
  {
   "cell_type": "code",
   "execution_count": 19,
   "id": "67797737-ff3e-4c95-b6cf-2a5198007de5",
   "metadata": {},
   "outputs": [
    {
     "data": {
      "image/png": "[encoded data removed]",
      "text/plain": [
       "<Figure size 640x480 with 1 Axes>"
      ]
     },
     "metadata": {},
     "output_type": "display_data"
    }
   ],
   "source": [
    "Times_2nd_try = np.array(Times_2nd_try)\n",
    "Speedup = Times_2nd_try[0]/Times_2nd_try\n",
    "plt.plot(np.arange(1,15),Speedup,label=\"Real speedup\")\n",
    "plt.plot(np.arange(1,15),np.arange(1,15),label=\"Theoretical Speedup\")\n",
    "plt.ylabel(\"Speedup\")\n",
    "plt.xlabel(\"# CPUs\")\n",
    "plt.legend()\n",
    "plt.show()"
   ]
  },
  {
   "cell_type": "markdown",
   "id": "8922e60b-813d-4171-bea9-85ea876a178a",
   "metadata": {},
   "source": [
    "Here, the speedup is almost equal to the theoretical one. It starts decreasing significantly when adding a lot of CPUs, probably beacuse also the amount of overhead is increasing faster than the speedup given by the number of CPUs.\n"
   ]
  }
 ],
 "metadata": {
  "kernelspec": {
   "display_name": "Python 3 (ipykernel)",
   "language": "python",
   "name": "python3"
  },
  "language_info": {
   "codemirror_mode": {
    "name": "ipython",
    "version": 3
   },
   "file_extension": ".py",
   "mimetype": "text/x-python",
   "name": "python",
   "nbconvert_exporter": "python",
   "pygments_lexer": "ipython3",
   "version": "3.12.3"
  }
 },
 "nbformat": 4,
 "nbformat_minor": 5
}
